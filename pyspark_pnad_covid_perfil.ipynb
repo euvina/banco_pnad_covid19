{
 "cells": [
  {
   "cell_type": "markdown",
   "metadata": {},
   "source": [
    "# Inicializar PySpark"
   ]
  },
  {
   "cell_type": "code",
   "execution_count": 2,
   "metadata": {},
   "outputs": [
    {
     "data": {
      "text/html": [
       "\n",
       "            <div>\n",
       "                <p><b>SparkSession - in-memory</b></p>\n",
       "                \n",
       "        <div>\n",
       "            <p><b>SparkContext</b></p>\n",
       "\n",
       "            <p><a href=\"http://euvina:4040\">Spark UI</a></p>\n",
       "\n",
       "            <dl>\n",
       "              <dt>Version</dt>\n",
       "                <dd><code>v3.5.1</code></dd>\n",
       "              <dt>Master</dt>\n",
       "                <dd><code>local[*]</code></dd>\n",
       "              <dt>AppName</dt>\n",
       "                <dd><code>local[*]</code></dd>\n",
       "            </dl>\n",
       "        </div>\n",
       "        \n",
       "            </div>\n",
       "        "
      ],
      "text/plain": [
       "<pyspark.sql.session.SparkSession at 0x201bc78df90>"
      ]
     },
     "execution_count": 2,
     "metadata": {},
     "output_type": "execute_result"
    }
   ],
   "source": [
    "# pyspark imports\n",
    "import findspark\n",
    "findspark.init()\n",
    "\n",
    "from pyspark.sql import SparkSession\n",
    "spark = SparkSession\\\n",
    "            .builder\\\n",
    "                .appName('local[*]')\\\n",
    "                    .getOrCreate()\n",
    "\n",
    "spark"
   ]
  },
  {
   "cell_type": "code",
   "execution_count": 3,
   "metadata": {},
   "outputs": [
    {
     "name": "stdout",
     "output_type": "stream",
     "text": [
      "+----------+\n",
      "|     hello|\n",
      "+----------+\n",
      "|Deu certo!|\n",
      "+----------+\n",
      "\n"
     ]
    }
   ],
   "source": [
    "# checando se o pyspark está funcionando\n",
    "df = spark.sql('''select 'Deu certo!' as hello''')\n",
    "df.show()"
   ]
  },
  {
   "cell_type": "code",
   "execution_count": 4,
   "metadata": {},
   "outputs": [],
   "source": [
    "# módulos para manipulação de dados\n",
    "from pyspark.sql import Row, DataFrame\n",
    "from pyspark.sql.types import StringType, StructType, StructField, IntegerType, FloatType\n",
    "from pyspark.sql.functions import col, expr, lit, substring, concat, concat_ws, when, coalesce\n",
    "from pyspark.sql import functions as F\n",
    "from functools import reduce\n",
    "from typing import List\n",
    "import pyspark.sql.types as T "
   ]
  },
  {
   "cell_type": "code",
   "execution_count": 6,
   "metadata": {},
   "outputs": [
    {
     "data": {
      "text/html": [
       "\n",
       "            <div>\n",
       "                <p><b>SparkSession - in-memory</b></p>\n",
       "                \n",
       "        <div>\n",
       "            <p><b>SparkContext</b></p>\n",
       "\n",
       "            <p><a href=\"http://euvina:4040\">Spark UI</a></p>\n",
       "\n",
       "            <dl>\n",
       "              <dt>Version</dt>\n",
       "                <dd><code>v3.5.1</code></dd>\n",
       "              <dt>Master</dt>\n",
       "                <dd><code>local[*]</code></dd>\n",
       "              <dt>AppName</dt>\n",
       "                <dd><code>local[*]</code></dd>\n",
       "            </dl>\n",
       "        </div>\n",
       "        \n",
       "            </div>\n",
       "        "
      ],
      "text/plain": [
       "<pyspark.sql.session.SparkSession at 0x201bc78df90>"
      ]
     },
     "execution_count": 6,
     "metadata": {},
     "output_type": "execute_result"
    }
   ],
   "source": [
    "spark = SparkSession\\\n",
    "              .builder\\\n",
    "                     .appName(\"IBGE PNAD Covid\")\\\n",
    "                            .getOrCreate()\n",
    "\n",
    "spark"
   ]
  },
  {
   "cell_type": "markdown",
   "metadata": {},
   "source": [
    "# Dados de entrada"
   ]
  },
  {
   "cell_type": "code",
   "execution_count": 7,
   "metadata": {},
   "outputs": [],
   "source": [
    "# para aumentar o número de colunas que o pyspark mostra\n",
    "spark.conf.set(\"spark.sql.debug.maxToStringFields\", 100)"
   ]
  },
  {
   "cell_type": "code",
   "execution_count": 8,
   "metadata": {},
   "outputs": [
    {
     "name": "stdout",
     "output_type": "stream",
     "text": [
      "+--------+------+---+-------------+-------+---------+---------------+----------------+--------------+---------------------+-------------+---------+--------+--------------------+----------------+-------------------------------------+-----------------------------------+---------------------------------+-------------------------+-----------------------+------------------------------+---------------------------+----------------------+--------------------------------+-----------------------------------------+-----+-----+------------+--------------------+----------+---------+------+---------------------+------+---------+--------------------+------------+--------+------------------------------+-----------------------------------+--------------------+------------------------+--------------------+--------------------+-----------------------------+---------------------------------------+--------------------+------------------------+--------------------+--------------------+-------------------------------------------------+----------------------------------------+----------------------------------+---------------------+-------------------------+---------------+--------------------------+--------+--------------------+------------------+---------------------+--------------------+----------------------+--------+-----------+-------------------------------------+---------------+---------+------+-----------------------+--------------------+--------------------+----------------------------+--------------------------------+--------------+---------------------------------+-----------------------+-------------------+---------------------------------+------------------------------------+-----------------+--------------------------------+--------------------+\n",
      "|      uf|semana|mes|no_entrevista|estrato|      upa|    respondente|status_domicilio|proj_populacao|condicao_no_domicilio|idade_morador|     sexo|cor_raca|        escolaridade|frequenta_escola|atividades_escolares_realizar_em_casa|dias_dedicados_atividades_escolares|tempo_diario_atividades_escolares|ensino_publico_ou_privado|tendo_aulas_presenciais|domicilio_tem_sabao_detergente|domicilio_tem_alcool_70mais|domicilio_tem_mascaras|domicilio_tem_luvas_descartaveis|domicilio_tem_agua_sanitaria_desinfetante|febre|tosse|dor_garganta|dificuldade_respirar|dor_cabeca|dor_peito|nausea|nariz_entupido_coriza|fadiga|dor_olhos|perda_olfato_paladar|dor_muscular|diarreia|como_restringiu_contato_fisico|compareceu_estabelecimento_de_saude|       ficou_em_casa|ligou_profissional_saude|         automedicou|   prescricao_medica|visita_profissional_saude_sus|visita_de_profissional_saude_particular|   outra_providencia|unidade_basica_saude_sus|  pronto_socorro_sus|        hospital_sus|ambulatorio_consultorio_privado_ou_forcas_armadas|pronto_socorro_privado_ou_forcas_armadas|hospital_privado_ou_forcas_armadas|internado_um_dia_mais|sedado_entubado_ventilado|tem_plano_saude|realizou_teste_coronavirus|cotonete|  resultado_cotonete|coleta_sangue_dedo|resultado_sangue_dedo| coleta_sanque_braco|resultado_sangue_braco|diabetes|hipertensao|doenca_respiratoria_cronica_ou_pulmao|doenca_cardiaca|depressao|cancer|trabalhou_uma_hora_mais|afastamento_trabalho|  motivo_afastamento|horas_semana_trabalho_normal|horas_semana_trabalho_realizadas|valor_dinheiro|contrato_trabalho_estava_suspenso|trabalho_no_mesmo_local|    trabalho_remoto|auxilios_emergenciais_coronavirus|valor_recebido_auxilios_emergenciais|seguro_desemprego|valor_recebido_seguro_desemprego|solicitou_emprestimo|\n",
      "+--------+------+---+-------------+-------+---------+---------------+----------------+--------------+---------------------+-------------+---------+--------+--------------------+----------------+-------------------------------------+-----------------------------------+---------------------------------+-------------------------+-----------------------+------------------------------+---------------------------+----------------------+--------------------------------+-----------------------------------------+-----+-----+------------+--------------------+----------+---------+------+---------------------+------+---------+--------------------+------------+--------+------------------------------+-----------------------------------+--------------------+------------------------+--------------------+--------------------+-----------------------------+---------------------------------------+--------------------+------------------------+--------------------+--------------------+-------------------------------------------------+----------------------------------------+----------------------------------+---------------------+-------------------------+---------------+--------------------------+--------+--------------------+------------------+---------------------+--------------------+----------------------+--------+-----------+-------------------------------------+---------------+---------+------+-----------------------+--------------------+--------------------+----------------------------+--------------------------------+--------------+---------------------------------+-----------------------+-------------------+---------------------------------+------------------------------------+-----------------+--------------------------------+--------------------+\n",
      "|Rondônia|     4|  9|            5|1110011|110015970|Pessoa moradora|          Urbana|        152677| Pessoa responsáve...|           36|masculino|   Parda|      Médio completo|   Não informado|                 Não informado / N...|                      Não informado|                    Não informado|            Não informado|          Não informado|                           Sim|                        Sim|                   Sim|                            Não |                                      Sim| Não | Não |        Não |                Não |      Não |     Não |  Não |                 Não |  Não |     Não |                Não |        Não |    Não |          Reduziu o contato...|               Ignorado / Não ap...|Ignorado / Não ap...|    Ignorado / Não ap...|Ignorado / Não ap...|Ignorado / Não ap...|         Ignorado / Não ap...|                   Ignorado / Não ap...|Ignorado / Não ap...|    Ignorado / Não ap...|Ignorado / Não ap...|Ignorado / Não ap...|                             Ignorado / Não ap...|                    Ignorado / Não ap...|              Ignorado / Não ap...| Ignorado / Não ap...|     Ignorado / Não ap...|            Sim|                      Não |Ignorado|Ignorado / Não ap...|          Ignorado| Ignorado / Não ap...|Ignorado / Não ap...|  Ignorado / Não ap...|     Não|        Não|                                  Não|            Não|      Não|   Não|                    Sim| Não / Não aplicável|Ignorado / Não ap...|                          48|                              48|          1045|              Não / Não aplicável|                    Sim|Não / Não aplicável|                              Sim|                              1200.0|              Não|                             0.0|       Não solicitou|\n",
      "|Rondônia|     4|  9|            5|1110011|110015970|Pessoa moradora|          Urbana|        150642| Cônjuge ou compan...|           30| feminino|   Parda|   Superior completo|   Não informado|                 Não informado / N...|                      Não informado|                    Não informado|            Não informado|          Não informado|                           Sim|                        Sim|                   Sim|                            Não |                                      Sim| Não | Não |        Não |                Não |      Não |     Não |  Não |                 Não |  Não |     Não |                Não |        Não |    Não |          Reduziu o contato...|               Ignorado / Não ap...|Ignorado / Não ap...|    Ignorado / Não ap...|Ignorado / Não ap...|Ignorado / Não ap...|         Ignorado / Não ap...|                   Ignorado / Não ap...|Ignorado / Não ap...|    Ignorado / Não ap...|Ignorado / Não ap...|Ignorado / Não ap...|                             Ignorado / Não ap...|                    Ignorado / Não ap...|              Ignorado / Não ap...| Ignorado / Não ap...|     Ignorado / Não ap...|           Não |                      Não |Ignorado|Ignorado / Não ap...|          Ignorado| Ignorado / Não ap...|Ignorado / Não ap...|  Ignorado / Não ap...|     Não|        Não|                                  Não|            Não|      Não|   Não|                    Sim| Não / Não aplicável|Ignorado / Não ap...|                          36|                              36|          1045|              Não / Não aplicável|                    Sim|Não / Não aplicável|                              Sim|                              1200.0|              Não|                             0.0|       Não solicitou|\n",
      "|Rondônia|     4|  9|            5|1110011|110015970|Pessoa moradora|          Urbana|        145237| Filho(a) do respo...|           13|masculino|   Parda|Fundamental incom...|             Sim|                 Sim, e realizou p...|                             5 dias|             De 2 horas a meno...|            Não informado|          Não informado|                           Sim|                        Sim|                   Sim|                            Não |                                      Sim| Não | Não |        Não |                Não |      Não |     Não |  Não |                 Não |  Não |     Não |                Não |        Não |    Não |          Ficou rigorosamen...|               Ignorado / Não ap...|Ignorado / Não ap...|    Ignorado / Não ap...|Ignorado / Não ap...|Ignorado / Não ap...|         Ignorado / Não ap...|                   Ignorado / Não ap...|Ignorado / Não ap...|    Ignorado / Não ap...|Ignorado / Não ap...|Ignorado / Não ap...|                             Ignorado / Não ap...|                    Ignorado / Não ap...|              Ignorado / Não ap...| Ignorado / Não ap...|     Ignorado / Não ap...|            Sim|                      Não |Ignorado|Ignorado / Não ap...|          Ignorado| Ignorado / Não ap...|Ignorado / Não ap...|  Ignorado / Não ap...|     Não|        Não|                                  Não|            Não|      Não|   Não|    Não / Não aplicável| Não / Não aplicável|Ignorado / Não ap...|                           0|                               0|             0|              Não / Não aplicável|    Não / Não aplicável|Não / Não aplicável|                              Sim|                              1200.0|              Não|                             0.0|       Não solicitou|\n",
      "|Rondônia|     4|  9|            5|1110011|110015970|Pessoa moradora|          Urbana|        145237| Filho(a) do respo...|           11|masculino|   Parda|Fundamental incom...|             Sim|                 Sim, e realizou p...|                             5 dias|             De 2 horas a meno...|            Não informado|          Não informado|                           Sim|                        Sim|                   Sim|                            Não |                                      Sim| Não | Não |        Não |                Não |      Não |     Não |  Não |                 Não |  Não |     Não |                Não |        Não |    Não |          Ficou rigorosamen...|               Ignorado / Não ap...|Ignorado / Não ap...|    Ignorado / Não ap...|Ignorado / Não ap...|Ignorado / Não ap...|         Ignorado / Não ap...|                   Ignorado / Não ap...|Ignorado / Não ap...|    Ignorado / Não ap...|Ignorado / Não ap...|Ignorado / Não ap...|                             Ignorado / Não ap...|                    Ignorado / Não ap...|              Ignorado / Não ap...| Ignorado / Não ap...|     Ignorado / Não ap...|            Sim|                      Não |Ignorado|Ignorado / Não ap...|          Ignorado| Ignorado / Não ap...|Ignorado / Não ap...|  Ignorado / Não ap...|     Não|        Não|                                  Não|            Não|      Não|   Não|    Não / Não aplicável| Não / Não aplicável|Ignorado / Não ap...|                           0|                               0|             0|              Não / Não aplicável|    Não / Não aplicável|Não / Não aplicável|                              Sim|                              1200.0|              Não|                             0.0|       Não solicitou|\n",
      "|Rondônia|     1|  9|            5|1110011|110015970|Pessoa moradora|          Urbana|         91889| Pessoa responsáve...|           57| feminino|  Branca|Fundamental incom...|   Não informado|                 Não informado / N...|                      Não informado|                    Não informado|            Não informado|          Não informado|                           Sim|                        Sim|                   Sim|                            Não |                                      Sim| Não | Não |        Não |                Não |      Não |     Não |  Não |                 Não |  Não |     Não |                Não |        Não |    Não |          Reduziu o contato...|               Ignorado / Não ap...|Ignorado / Não ap...|    Ignorado / Não ap...|Ignorado / Não ap...|Ignorado / Não ap...|         Ignorado / Não ap...|                   Ignorado / Não ap...|Ignorado / Não ap...|    Ignorado / Não ap...|Ignorado / Não ap...|Ignorado / Não ap...|                             Ignorado / Não ap...|                    Ignorado / Não ap...|              Ignorado / Não ap...| Ignorado / Não ap...|     Ignorado / Não ap...|           Não |                      Não |Ignorado|Ignorado / Não ap...|          Ignorado| Ignorado / Não ap...|Ignorado / Não ap...|  Ignorado / Não ap...|     Não|        Não|                                  Não|            Não|      Não|   Não|    Não / Não aplicável| Não / Não aplicável|Ignorado / Não ap...|                           0|                               0|             0|              Não / Não aplicável|    Não / Não aplicável|Não / Não aplicável|                              Não|                                 0.0|              Não|                             0.0|       Não solicitou|\n",
      "|Rondônia|     2|  9|            5|1110011|110015970|Pessoa moradora|          Urbana|         91889| Pessoa responsáve...|           58| feminino|   Preta|       Sem instrução|   Não informado|                 Não informado / N...|                      Não informado|                    Não informado|            Não informado|          Não informado|                           Sim|                        Sim|                   Sim|                            Não |                                      Sim| Não | Não |        Não |                Não |      Não |     Não |  Não |                 Não |  Não |     Não |                Não |        Não |    Não |          Ficou em casa e s...|               Ignorado / Não ap...|Ignorado / Não ap...|    Ignorado / Não ap...|Ignorado / Não ap...|Ignorado / Não ap...|         Ignorado / Não ap...|                   Ignorado / Não ap...|Ignorado / Não ap...|    Ignorado / Não ap...|Ignorado / Não ap...|Ignorado / Não ap...|                             Ignorado / Não ap...|                    Ignorado / Não ap...|              Ignorado / Não ap...| Ignorado / Não ap...|     Ignorado / Não ap...|           Não |                      Não |Ignorado|Ignorado / Não ap...|          Ignorado| Ignorado / Não ap...|Ignorado / Não ap...|  Ignorado / Não ap...|     Sim|        Sim|                                  Não|            Não|      Não|   Não|                    Sim| Não / Não aplicável|Ignorado / Não ap...|                          40|                              40|           100|              Não / Não aplicável|                    Sim|Não / Não aplicável|                              Não|                                 0.0|              Não|                             0.0|       Não solicitou|\n",
      "|Rondônia|     4|  9|            5|1110011|110015970|Pessoa moradora|          Urbana|        123242| Pessoa responsáve...|           47|masculino|   Parda|Fundamental incom...|   Não informado|                 Não informado / N...|                      Não informado|                    Não informado|            Não informado|          Não informado|                           Sim|                        Sim|                   Sim|                            Não |                                      Sim| Não | Não |        Não |                Não |      Não |     Não |  Não |                 Não |  Não |     Não |                Não |        Não |    Não |          Reduziu o contato...|               Ignorado / Não ap...|Ignorado / Não ap...|    Ignorado / Não ap...|Ignorado / Não ap...|Ignorado / Não ap...|         Ignorado / Não ap...|                   Ignorado / Não ap...|Ignorado / Não ap...|    Ignorado / Não ap...|Ignorado / Não ap...|Ignorado / Não ap...|                             Ignorado / Não ap...|                    Ignorado / Não ap...|              Ignorado / Não ap...| Ignorado / Não ap...|     Ignorado / Não ap...|           Não |                      Não |Ignorado|Ignorado / Não ap...|          Ignorado| Ignorado / Não ap...|Ignorado / Não ap...|  Ignorado / Não ap...|     Não|        Não|                                  Não|            Não|      Não|   Não|                    Sim| Não / Não aplicável|Ignorado / Não ap...|                          40|                              20|          1500|              Não / Não aplicável|                    Sim|Não / Não aplicável|                              Sim|                               600.0|              Não|                             0.0|       Não solicitou|\n",
      "|Rondônia|     4|  9|            5|1110011|110015970|Pessoa moradora|          Urbana|        139056| Filho(a) somente ...|           18| feminino|   Parda|Fundamental incom...|             Não|                 Não informado / N...|                      Não informado|                    Não informado|            Não informado|          Não informado|                           Sim|                        Sim|                   Sim|                            Não |                                      Sim| Não | Não |        Não |                Não |      Não |     Não |  Não |                 Não |  Não |     Não |                Não |        Não |    Não |          Ficou em casa e s...|               Ignorado / Não ap...|Ignorado / Não ap...|    Ignorado / Não ap...|Ignorado / Não ap...|Ignorado / Não ap...|         Ignorado / Não ap...|                   Ignorado / Não ap...|Ignorado / Não ap...|    Ignorado / Não ap...|Ignorado / Não ap...|Ignorado / Não ap...|                             Ignorado / Não ap...|                    Ignorado / Não ap...|              Ignorado / Não ap...| Ignorado / Não ap...|     Ignorado / Não ap...|           Não |                      Não |Ignorado|Ignorado / Não ap...|          Ignorado| Ignorado / Não ap...|Ignorado / Não ap...|  Ignorado / Não ap...|     Não|        Não|                                  Não|            Não|      Não|   Não|    Não / Não aplicável| Não / Não aplicável|Ignorado / Não ap...|                           0|                               0|             0|              Não / Não aplicável|    Não / Não aplicável|Não / Não aplicável|                              Sim|                               600.0|              Não|                             0.0|       Não solicitou|\n",
      "|Rondônia|     4|  9|            5|1110011|110015970|Pessoa moradora|          Urbana|        145237| Filho(a) somente ...|           11|masculino|   Parda|Fundamental incom...|             Sim|                 Não informado / N...|                      Não informado|                    Não informado|            Não informado|          Não informado|                           Sim|                        Sim|                   Sim|                            Não |                                      Sim| Não | Não |        Não |                Não |      Não |     Não |  Não |                 Não |  Não |     Não |                Não |        Não |    Não |          Ficou rigorosamen...|               Ignorado / Não ap...|Ignorado / Não ap...|    Ignorado / Não ap...|Ignorado / Não ap...|Ignorado / Não ap...|         Ignorado / Não ap...|                   Ignorado / Não ap...|Ignorado / Não ap...|    Ignorado / Não ap...|Ignorado / Não ap...|Ignorado / Não ap...|                             Ignorado / Não ap...|                    Ignorado / Não ap...|              Ignorado / Não ap...| Ignorado / Não ap...|     Ignorado / Não ap...|           Não |                      Não |Ignorado|Ignorado / Não ap...|          Ignorado| Ignorado / Não ap...|Ignorado / Não ap...|  Ignorado / Não ap...|     Não|        Não|                                  Não|            Não|      Não|   Não|    Não / Não aplicável| Não / Não aplicável|Ignorado / Não ap...|                           0|                               0|             0|              Não / Não aplicável|    Não / Não aplicável|Não / Não aplicável|                              Sim|                               600.0|              Não|                             0.0|       Não solicitou|\n",
      "|Rondônia|     4|  9|            5|1110011|110015970|Pessoa moradora|          Urbana|        134071| Filho(a) somente ...|            9| feminino|   Parda|Fundamental incom...|             Sim|                 Não informado / N...|                      Não informado|                    Não informado|            Não informado|          Não informado|                           Sim|                        Sim|                   Sim|                            Não |                                      Sim| Não | Não |        Não |                Não |      Não |     Não |  Não |                 Não |  Não |     Não |                Não |        Não |    Não |          Ficou rigorosamen...|               Ignorado / Não ap...|Ignorado / Não ap...|    Ignorado / Não ap...|Ignorado / Não ap...|Ignorado / Não ap...|         Ignorado / Não ap...|                   Ignorado / Não ap...|Ignorado / Não ap...|    Ignorado / Não ap...|Ignorado / Não ap...|Ignorado / Não ap...|                             Ignorado / Não ap...|                    Ignorado / Não ap...|              Ignorado / Não ap...| Ignorado / Não ap...|     Ignorado / Não ap...|           Não |                      Não |Ignorado|Ignorado / Não ap...|          Ignorado| Ignorado / Não ap...|Ignorado / Não ap...|  Ignorado / Não ap...|     Não|        Não|                                  Não|            Não|      Não|   Não|    Não / Não aplicável| Não / Não aplicável|Ignorado / Não ap...|                           0|                               0|             0|              Não / Não aplicável|    Não / Não aplicável|Não / Não aplicável|                              Sim|                               600.0|              Não|                             0.0|       Não solicitou|\n",
      "|Rondônia|     4|  9|            5|1110011|110015970|Pessoa moradora|          Urbana|        145237| Filho(a) somente ...|           10|masculino|   Parda|Fundamental incom...|             Sim|                 Não informado / N...|                      Não informado|                    Não informado|            Não informado|          Não informado|                           Sim|                        Sim|                   Sim|                            Não |                                      Sim| Não | Não |        Não |                Não |      Não |     Não |  Não |                 Não |  Não |     Não |                Não |        Não |    Não |          Ficou rigorosamen...|               Ignorado / Não ap...|Ignorado / Não ap...|    Ignorado / Não ap...|Ignorado / Não ap...|Ignorado / Não ap...|         Ignorado / Não ap...|                   Ignorado / Não ap...|Ignorado / Não ap...|    Ignorado / Não ap...|Ignorado / Não ap...|Ignorado / Não ap...|                             Ignorado / Não ap...|                    Ignorado / Não ap...|              Ignorado / Não ap...| Ignorado / Não ap...|     Ignorado / Não ap...|           Não |                      Não |Ignorado|Ignorado / Não ap...|          Ignorado| Ignorado / Não ap...|Ignorado / Não ap...|  Ignorado / Não ap...|     Não|        Não|                                  Não|            Não|      Não|   Não|    Não / Não aplicável| Não / Não aplicável|Ignorado / Não ap...|                           0|                               0|             0|              Não / Não aplicável|    Não / Não aplicável|Não / Não aplicável|                              Sim|                               600.0|              Não|                             0.0|       Não solicitou|\n",
      "|Rondônia|     4|  9|            5|1110011|110015970|Pessoa moradora|          Urbana|        157535| Filho(a) somente ...|           26|masculino|   Parda|      Médio completo|             Não|                 Não informado / N...|                      Não informado|                    Não informado|            Não informado|          Não informado|                           Sim|                        Sim|                   Sim|                            Não |                                      Sim| Não | Não |        Não |                Não |      Não |     Não |  Não |                 Não |  Não |     Não |                Não |        Não |    Não |          Reduziu o contato...|               Ignorado / Não ap...|Ignorado / Não ap...|    Ignorado / Não ap...|Ignorado / Não ap...|Ignorado / Não ap...|         Ignorado / Não ap...|                   Ignorado / Não ap...|Ignorado / Não ap...|    Ignorado / Não ap...|Ignorado / Não ap...|Ignorado / Não ap...|                             Ignorado / Não ap...|                    Ignorado / Não ap...|              Ignorado / Não ap...| Ignorado / Não ap...|     Ignorado / Não ap...|           Não |                      Não |Ignorado|Ignorado / Não ap...|          Ignorado| Ignorado / Não ap...|Ignorado / Não ap...|  Ignorado / Não ap...|     Não|        Não|                                  Não|            Não|      Não|   Não|                    Sim| Não / Não aplicável|Ignorado / Não ap...|                          40|                              40|          1500|              Não / Não aplicável|                    Sim|Não / Não aplicável|                              Sim|                               600.0|              Não|                             0.0|       Não solicitou|\n",
      "|Rondônia|     4|  9|            5|1110011|110015970|Pessoa moradora|          Urbana|        145237| Filho(a) somente ...|           14|masculino| Amarela|Fundamental incom...|             Sim|                 Não informado / N...|                      Não informado|                    Não informado|            Não informado|          Não informado|                           Sim|                        Sim|                   Sim|                            Não |                                      Sim| Não | Não |        Não |                Não |      Não |     Não |  Não |                 Não |  Não |     Não |                Não |        Não |    Não |          Ficou rigorosamen...|               Ignorado / Não ap...|Ignorado / Não ap...|    Ignorado / Não ap...|Ignorado / Não ap...|Ignorado / Não ap...|         Ignorado / Não ap...|                   Ignorado / Não ap...|Ignorado / Não ap...|    Ignorado / Não ap...|Ignorado / Não ap...|Ignorado / Não ap...|                             Ignorado / Não ap...|                    Ignorado / Não ap...|              Ignorado / Não ap...| Ignorado / Não ap...|     Ignorado / Não ap...|           Não |                      Não |Ignorado|Ignorado / Não ap...|          Ignorado| Ignorado / Não ap...|Ignorado / Não ap...|  Ignorado / Não ap...|     Não|        Não|                                  Não|            Não|      Não|   Não|    Não / Não aplicável| Não / Não aplicável|Ignorado / Não ap...|                           0|                               0|             0|              Não / Não aplicável|    Não / Não aplicável|Não / Não aplicável|                              Sim|                               600.0|              Não|                             0.0|       Não solicitou|\n",
      "|Rondônia|     4|  9|            5|1110011|110015970|Pessoa moradora|          Urbana|        139056| Filho(a) somente ...|           15| feminino|   Parda|Fundamental incom...|             Sim|                 Não informado / N...|                      Não informado|                    Não informado|            Não informado|          Não informado|                           Sim|                        Sim|                   Sim|                            Não |                                      Sim| Não | Não |        Não |                Não |      Não |     Não |  Não |                 Não |  Não |     Não |                Não |        Não |    Não |          Ficou rigorosamen...|               Ignorado / Não ap...|Ignorado / Não ap...|    Ignorado / Não ap...|Ignorado / Não ap...|Ignorado / Não ap...|         Ignorado / Não ap...|                   Ignorado / Não ap...|Ignorado / Não ap...|    Ignorado / Não ap...|Ignorado / Não ap...|Ignorado / Não ap...|                             Ignorado / Não ap...|                    Ignorado / Não ap...|              Ignorado / Não ap...| Ignorado / Não ap...|     Ignorado / Não ap...|           Não |                      Não |Ignorado|Ignorado / Não ap...|          Ignorado| Ignorado / Não ap...|Ignorado / Não ap...|  Ignorado / Não ap...|     Não|        Não|                                  Não|            Não|      Não|   Não|    Não / Não aplicável| Não / Não aplicável|Ignorado / Não ap...|                           0|                               0|             0|              Não / Não aplicável|    Não / Não aplicável|Não / Não aplicável|                              Sim|                               600.0|              Não|                             0.0|       Não solicitou|\n",
      "|Rondônia|     4|  9|            5|1110011|110015970|Pessoa moradora|          Urbana|        150642| Cônjuge ou compan...|           33| feminino|   Parda|Fundamental incom...|   Não informado|                 Não informado / N...|                      Não informado|                    Não informado|            Não informado|          Não informado|                           Sim|                        Sim|                   Sim|                            Não |                                      Sim| Não | Não |        Não |                Não |      Não |     Não |  Não |                 Não |  Não |     Não |                Não |        Não |    Não |          Ficou em casa e s...|               Ignorado / Não ap...|Ignorado / Não ap...|    Ignorado / Não ap...|Ignorado / Não ap...|Ignorado / Não ap...|         Ignorado / Não ap...|                   Ignorado / Não ap...|Ignorado / Não ap...|    Ignorado / Não ap...|Ignorado / Não ap...|Ignorado / Não ap...|                             Ignorado / Não ap...|                    Ignorado / Não ap...|              Ignorado / Não ap...| Ignorado / Não ap...|     Ignorado / Não ap...|           Não |                      Não |Ignorado|Ignorado / Não ap...|          Ignorado| Ignorado / Não ap...|Ignorado / Não ap...|  Ignorado / Não ap...|     Não|        Não|                                  Não|            Não|      Não|   Não|    Não / Não aplicável| Não / Não aplicável|Ignorado / Não ap...|                           0|                               0|             0|              Não / Não aplicável|    Não / Não aplicável|Não / Não aplicável|                              Sim|                               600.0|              Não|                             0.0|       Não solicitou|\n",
      "|Rondônia|     3|  9|            5|1110011|110015970|Pessoa moradora|          Urbana|         56521| Pessoa responsáve...|           62|masculino|   Parda|       Sem instrução|   Não informado|                 Não informado / N...|                      Não informado|                    Não informado|            Não informado|          Não informado|                           Sim|                        Sim|                   Sim|                             Sim|                                      Sim| Não | Não |        Não |                Não |      Não |     Não |  Não |                 Não |  Não |     Não |                Não |        Não |    Não |          Reduziu o contato...|               Ignorado / Não ap...|Ignorado / Não ap...|    Ignorado / Não ap...|Ignorado / Não ap...|Ignorado / Não ap...|         Ignorado / Não ap...|                   Ignorado / Não ap...|Ignorado / Não ap...|    Ignorado / Não ap...|Ignorado / Não ap...|Ignorado / Não ap...|                             Ignorado / Não ap...|                    Ignorado / Não ap...|              Ignorado / Não ap...| Ignorado / Não ap...|     Ignorado / Não ap...|           Não |                      Não |Ignorado|Ignorado / Não ap...|          Ignorado| Ignorado / Não ap...|Ignorado / Não ap...|  Ignorado / Não ap...|     Não|        Não|                                  Não|            Não|      Não|   Não|                    Sim| Não / Não aplicável|Ignorado / Não ap...|                          44|                              44|          1045|              Não / Não aplicável|                    Sim|Não / Não aplicável|                              Sim|                               600.0|              Não|                             0.0|       Não solicitou|\n",
      "|Rondônia|     3|  9|            5|1110011|110015970|Pessoa moradora|          Urbana|         55357| Cônjuge ou compan...|           62| feminino|   Parda|Fundamental incom...|   Não informado|                 Não informado / N...|                      Não informado|                    Não informado|            Não informado|          Não informado|                           Sim|                        Sim|                   Sim|                             Sim|                                      Sim| Não | Não |        Não |                Não |      Não |     Não |  Não |                 Não |  Não |     Não |                Não |        Não |    Não |          Reduziu o contato...|               Ignorado / Não ap...|Ignorado / Não ap...|    Ignorado / Não ap...|Ignorado / Não ap...|Ignorado / Não ap...|         Ignorado / Não ap...|                   Ignorado / Não ap...|Ignorado / Não ap...|    Ignorado / Não ap...|Ignorado / Não ap...|Ignorado / Não ap...|                             Ignorado / Não ap...|                    Ignorado / Não ap...|              Ignorado / Não ap...| Ignorado / Não ap...|     Ignorado / Não ap...|           Não |                      Não |Ignorado|Ignorado / Não ap...|          Ignorado| Ignorado / Não ap...|Ignorado / Não ap...|  Ignorado / Não ap...|     Não|        Não|                                  Não|            Não|      Não|   Não|    Não / Não aplicável| Não / Não aplicável|Ignorado / Não ap...|                           0|                               0|             0|              Não / Não aplicável|    Não / Não aplicável|Não / Não aplicável|                              Sim|                               600.0|              Não|                             0.0|       Não solicitou|\n",
      "|Rondônia|     2|  9|            5|1110011|110015970|Pessoa moradora|          Urbana|         91889| Pessoa responsáve...|           56| feminino|   Parda|Fundamental incom...|   Não informado|                 Não informado / N...|                      Não informado|                    Não informado|            Não informado|          Não informado|                           Sim|                        Sim|                   Sim|                            Não |                                      Sim| Não | Não |        Não |                Não |      Não |     Não |  Não |                 Não |  Não |     Não |                Não |        Não |    Não |          Reduziu o contato...|               Ignorado / Não ap...|Ignorado / Não ap...|    Ignorado / Não ap...|Ignorado / Não ap...|Ignorado / Não ap...|         Ignorado / Não ap...|                   Ignorado / Não ap...|Ignorado / Não ap...|    Ignorado / Não ap...|Ignorado / Não ap...|Ignorado / Não ap...|                             Ignorado / Não ap...|                    Ignorado / Não ap...|              Ignorado / Não ap...| Ignorado / Não ap...|     Ignorado / Não ap...|           Não |                      Não |Ignorado|Ignorado / Não ap...|          Ignorado| Ignorado / Não ap...|Ignorado / Não ap...|  Ignorado / Não ap...|     Não|        Não|                                  Sim|            Não|      Não|   Não|    Não / Não aplicável| Não / Não aplicável|Ignorado / Não ap...|                           0|                               0|             0|              Não / Não aplicável|    Não / Não aplicável|Não / Não aplicável|                              Sim|                              1200.0|              Não|                             0.0|       Não solicitou|\n",
      "|Rondônia|     2|  9|            5|1110011|110015970|Pessoa moradora|          Urbana|         95808| Cônjuge ou compan...|           53|masculino|   Preta|Fundamental incom...|   Não informado|                 Não informado / N...|                      Não informado|                    Não informado|            Não informado|          Não informado|                           Sim|                        Sim|                   Sim|                            Não |                                      Sim| Não | Não |        Não |                Não |      Não |     Não |  Não |                 Não |  Não |     Não |                Não |        Não |    Não |          Ficou em casa e s...|               Ignorado / Não ap...|Ignorado / Não ap...|    Ignorado / Não ap...|Ignorado / Não ap...|Ignorado / Não ap...|         Ignorado / Não ap...|                   Ignorado / Não ap...|Ignorado / Não ap...|    Ignorado / Não ap...|Ignorado / Não ap...|Ignorado / Não ap...|                             Ignorado / Não ap...|                    Ignorado / Não ap...|              Ignorado / Não ap...| Ignorado / Não ap...|     Ignorado / Não ap...|           Não |                      Não |Ignorado|Ignorado / Não ap...|          Ignorado| Ignorado / Não ap...|Ignorado / Não ap...|  Ignorado / Não ap...|     Não|        Não|                                  Não|            Não|      Não|   Não|                    Sim| Não / Não aplicável|Ignorado / Não ap...|                          40|                              40|          1600|              Não / Não aplicável|                    Sim|Não / Não aplicável|                              Sim|                              1200.0|              Não|                             0.0|       Não solicitou|\n",
      "|Rondônia|     2|  9|            5|1110011|110015970|Pessoa moradora|          Urbana|        139056| Filho(a) do respo...|           17| feminino|  Branca|    Médio incompleto|             Não|                 Não informado / N...|                      Não informado|                    Não informado|            Não informado|          Não informado|                           Sim|                        Sim|                   Sim|                            Não |                                      Sim| Não | Não |        Não |                Não |      Não |     Não |  Não |                 Não |  Não |     Não |                Não |        Não |    Não |          Reduziu o contato...|               Ignorado / Não ap...|Ignorado / Não ap...|    Ignorado / Não ap...|Ignorado / Não ap...|Ignorado / Não ap...|         Ignorado / Não ap...|                   Ignorado / Não ap...|Ignorado / Não ap...|    Ignorado / Não ap...|Ignorado / Não ap...|Ignorado / Não ap...|                             Ignorado / Não ap...|                    Ignorado / Não ap...|              Ignorado / Não ap...| Ignorado / Não ap...|     Ignorado / Não ap...|           Não |                      Não |Ignorado|Ignorado / Não ap...|          Ignorado| Ignorado / Não ap...|Ignorado / Não ap...|  Ignorado / Não ap...|     Não|        Não|                                  Não|            Não|      Não|   Não|    Não / Não aplicável| Não / Não aplicável|Ignorado / Não ap...|                           0|                               0|             0|              Não / Não aplicável|    Não / Não aplicável|Não / Não aplicável|                              Sim|                              1200.0|              Não|                             0.0|       Não solicitou|\n",
      "+--------+------+---+-------------+-------+---------+---------------+----------------+--------------+---------------------+-------------+---------+--------+--------------------+----------------+-------------------------------------+-----------------------------------+---------------------------------+-------------------------+-----------------------+------------------------------+---------------------------+----------------------+--------------------------------+-----------------------------------------+-----+-----+------------+--------------------+----------+---------+------+---------------------+------+---------+--------------------+------------+--------+------------------------------+-----------------------------------+--------------------+------------------------+--------------------+--------------------+-----------------------------+---------------------------------------+--------------------+------------------------+--------------------+--------------------+-------------------------------------------------+----------------------------------------+----------------------------------+---------------------+-------------------------+---------------+--------------------------+--------+--------------------+------------------+---------------------+--------------------+----------------------+--------+-----------+-------------------------------------+---------------+---------+------+-----------------------+--------------------+--------------------+----------------------------+--------------------------------+--------------+---------------------------------+-----------------------+-------------------+---------------------------------+------------------------------------+-----------------+--------------------------------+--------------------+\n",
      "only showing top 20 rows\n",
      "\n"
     ]
    }
   ],
   "source": [
    "# ler o dataframe com todas as questões pré-selecionadas\n",
    "df = spark.read.csv('output/df.csv',\n",
    "                    sep=',', header=True, inferSchema=True)\n",
    "\n",
    "df.show()"
   ]
  },
  {
   "cell_type": "code",
   "execution_count": 9,
   "metadata": {},
   "outputs": [
    {
     "name": "stdout",
     "output_type": "stream",
     "text": [
      "root\n",
      " |-- uf: string (nullable = true)\n",
      " |-- semana: integer (nullable = true)\n",
      " |-- mes: integer (nullable = true)\n",
      " |-- no_entrevista: integer (nullable = true)\n",
      " |-- estrato: integer (nullable = true)\n",
      " |-- upa: integer (nullable = true)\n",
      " |-- respondente: string (nullable = true)\n",
      " |-- status_domicilio: string (nullable = true)\n",
      " |-- proj_populacao: integer (nullable = true)\n",
      " |-- condicao_no_domicilio: string (nullable = true)\n",
      " |-- idade_morador: integer (nullable = true)\n",
      " |-- sexo: string (nullable = true)\n",
      " |-- cor_raca: string (nullable = true)\n",
      " |-- escolaridade: string (nullable = true)\n",
      " |-- frequenta_escola: string (nullable = true)\n",
      " |-- atividades_escolares_realizar_em_casa: string (nullable = true)\n",
      " |-- dias_dedicados_atividades_escolares: string (nullable = true)\n",
      " |-- tempo_diario_atividades_escolares: string (nullable = true)\n",
      " |-- ensino_publico_ou_privado: string (nullable = true)\n",
      " |-- tendo_aulas_presenciais: string (nullable = true)\n",
      " |-- domicilio_tem_sabao_detergente: string (nullable = true)\n",
      " |-- domicilio_tem_alcool_70mais: string (nullable = true)\n",
      " |-- domicilio_tem_mascaras: string (nullable = true)\n",
      " |-- domicilio_tem_luvas_descartaveis: string (nullable = true)\n",
      " |-- domicilio_tem_agua_sanitaria_desinfetante: string (nullable = true)\n",
      " |-- febre: string (nullable = true)\n",
      " |-- tosse: string (nullable = true)\n",
      " |-- dor_garganta: string (nullable = true)\n",
      " |-- dificuldade_respirar: string (nullable = true)\n",
      " |-- dor_cabeca: string (nullable = true)\n",
      " |-- dor_peito: string (nullable = true)\n",
      " |-- nausea: string (nullable = true)\n",
      " |-- nariz_entupido_coriza: string (nullable = true)\n",
      " |-- fadiga: string (nullable = true)\n",
      " |-- dor_olhos: string (nullable = true)\n",
      " |-- perda_olfato_paladar: string (nullable = true)\n",
      " |-- dor_muscular: string (nullable = true)\n",
      " |-- diarreia: string (nullable = true)\n",
      " |-- como_restringiu_contato_fisico: string (nullable = true)\n",
      " |-- compareceu_estabelecimento_de_saude: string (nullable = true)\n",
      " |-- ficou_em_casa: string (nullable = true)\n",
      " |-- ligou_profissional_saude: string (nullable = true)\n",
      " |-- automedicou: string (nullable = true)\n",
      " |-- prescricao_medica: string (nullable = true)\n",
      " |-- visita_profissional_saude_sus: string (nullable = true)\n",
      " |-- visita_de_profissional_saude_particular: string (nullable = true)\n",
      " |-- outra_providencia: string (nullable = true)\n",
      " |-- unidade_basica_saude_sus: string (nullable = true)\n",
      " |-- pronto_socorro_sus: string (nullable = true)\n",
      " |-- hospital_sus: string (nullable = true)\n",
      " |-- ambulatorio_consultorio_privado_ou_forcas_armadas: string (nullable = true)\n",
      " |-- pronto_socorro_privado_ou_forcas_armadas: string (nullable = true)\n",
      " |-- hospital_privado_ou_forcas_armadas: string (nullable = true)\n",
      " |-- internado_um_dia_mais: string (nullable = true)\n",
      " |-- sedado_entubado_ventilado: string (nullable = true)\n",
      " |-- tem_plano_saude: string (nullable = true)\n",
      " |-- realizou_teste_coronavirus: string (nullable = true)\n",
      " |-- cotonete: string (nullable = true)\n",
      " |-- resultado_cotonete: string (nullable = true)\n",
      " |-- coleta_sangue_dedo: string (nullable = true)\n",
      " |-- resultado_sangue_dedo: string (nullable = true)\n",
      " |-- coleta_sanque_braco: string (nullable = true)\n",
      " |-- resultado_sangue_braco: string (nullable = true)\n",
      " |-- diabetes: string (nullable = true)\n",
      " |-- hipertensao: string (nullable = true)\n",
      " |-- doenca_respiratoria_cronica_ou_pulmao: string (nullable = true)\n",
      " |-- doenca_cardiaca: string (nullable = true)\n",
      " |-- depressao: string (nullable = true)\n",
      " |-- cancer: string (nullable = true)\n",
      " |-- trabalhou_uma_hora_mais: string (nullable = true)\n",
      " |-- afastamento_trabalho: string (nullable = true)\n",
      " |-- motivo_afastamento: string (nullable = true)\n",
      " |-- horas_semana_trabalho_normal: integer (nullable = true)\n",
      " |-- horas_semana_trabalho_realizadas: integer (nullable = true)\n",
      " |-- valor_dinheiro: integer (nullable = true)\n",
      " |-- contrato_trabalho_estava_suspenso: string (nullable = true)\n",
      " |-- trabalho_no_mesmo_local: string (nullable = true)\n",
      " |-- trabalho_remoto: string (nullable = true)\n",
      " |-- auxilios_emergenciais_coronavirus: string (nullable = true)\n",
      " |-- valor_recebido_auxilios_emergenciais: double (nullable = true)\n",
      " |-- seguro_desemprego: string (nullable = true)\n",
      " |-- valor_recebido_seguro_desemprego: double (nullable = true)\n",
      " |-- solicitou_emprestimo: string (nullable = true)\n",
      "\n"
     ]
    }
   ],
   "source": [
    "df.printSchema() # mostra o esquema do dataframe"
   ]
  },
  {
   "cell_type": "code",
   "execution_count": 10,
   "metadata": {},
   "outputs": [
    {
     "name": "stdout",
     "output_type": "stream",
     "text": [
      "Total de linhas: 1149197\n",
      "Total de colunas: ['uf', 'semana', 'mes', 'no_entrevista', 'estrato', 'upa', 'respondente', 'status_domicilio', 'proj_populacao', 'condicao_no_domicilio', 'idade_morador', 'sexo', 'cor_raca', 'escolaridade', 'frequenta_escola', 'atividades_escolares_realizar_em_casa', 'dias_dedicados_atividades_escolares', 'tempo_diario_atividades_escolares', 'ensino_publico_ou_privado', 'tendo_aulas_presenciais', 'domicilio_tem_sabao_detergente', 'domicilio_tem_alcool_70mais', 'domicilio_tem_mascaras', 'domicilio_tem_luvas_descartaveis', 'domicilio_tem_agua_sanitaria_desinfetante', 'febre', 'tosse', 'dor_garganta', 'dificuldade_respirar', 'dor_cabeca', 'dor_peito', 'nausea', 'nariz_entupido_coriza', 'fadiga', 'dor_olhos', 'perda_olfato_paladar', 'dor_muscular', 'diarreia', 'como_restringiu_contato_fisico', 'compareceu_estabelecimento_de_saude', 'ficou_em_casa', 'ligou_profissional_saude', 'automedicou', 'prescricao_medica', 'visita_profissional_saude_sus', 'visita_de_profissional_saude_particular', 'outra_providencia', 'unidade_basica_saude_sus', 'pronto_socorro_sus', 'hospital_sus', 'ambulatorio_consultorio_privado_ou_forcas_armadas', 'pronto_socorro_privado_ou_forcas_armadas', 'hospital_privado_ou_forcas_armadas', 'internado_um_dia_mais', 'sedado_entubado_ventilado', 'tem_plano_saude', 'realizou_teste_coronavirus', 'cotonete', 'resultado_cotonete', 'coleta_sangue_dedo', 'resultado_sangue_dedo', 'coleta_sanque_braco', 'resultado_sangue_braco', 'diabetes', 'hipertensao', 'doenca_respiratoria_cronica_ou_pulmao', 'doenca_cardiaca', 'depressao', 'cancer', 'trabalhou_uma_hora_mais', 'afastamento_trabalho', 'motivo_afastamento', 'horas_semana_trabalho_normal', 'horas_semana_trabalho_realizadas', 'valor_dinheiro', 'contrato_trabalho_estava_suspenso', 'trabalho_no_mesmo_local', 'trabalho_remoto', 'auxilios_emergenciais_coronavirus', 'valor_recebido_auxilios_emergenciais', 'seguro_desemprego', 'valor_recebido_seguro_desemprego', 'solicitou_emprestimo']\n",
      "Colunas: 83\n",
      "Tipos de dados: [('uf', 'string'), ('semana', 'int'), ('mes', 'int'), ('no_entrevista', 'int'), ('estrato', 'int'), ('upa', 'int'), ('respondente', 'string'), ('status_domicilio', 'string'), ('proj_populacao', 'int'), ('condicao_no_domicilio', 'string'), ('idade_morador', 'int'), ('sexo', 'string'), ('cor_raca', 'string'), ('escolaridade', 'string'), ('frequenta_escola', 'string'), ('atividades_escolares_realizar_em_casa', 'string'), ('dias_dedicados_atividades_escolares', 'string'), ('tempo_diario_atividades_escolares', 'string'), ('ensino_publico_ou_privado', 'string'), ('tendo_aulas_presenciais', 'string'), ('domicilio_tem_sabao_detergente', 'string'), ('domicilio_tem_alcool_70mais', 'string'), ('domicilio_tem_mascaras', 'string'), ('domicilio_tem_luvas_descartaveis', 'string'), ('domicilio_tem_agua_sanitaria_desinfetante', 'string'), ('febre', 'string'), ('tosse', 'string'), ('dor_garganta', 'string'), ('dificuldade_respirar', 'string'), ('dor_cabeca', 'string'), ('dor_peito', 'string'), ('nausea', 'string'), ('nariz_entupido_coriza', 'string'), ('fadiga', 'string'), ('dor_olhos', 'string'), ('perda_olfato_paladar', 'string'), ('dor_muscular', 'string'), ('diarreia', 'string'), ('como_restringiu_contato_fisico', 'string'), ('compareceu_estabelecimento_de_saude', 'string'), ('ficou_em_casa', 'string'), ('ligou_profissional_saude', 'string'), ('automedicou', 'string'), ('prescricao_medica', 'string'), ('visita_profissional_saude_sus', 'string'), ('visita_de_profissional_saude_particular', 'string'), ('outra_providencia', 'string'), ('unidade_basica_saude_sus', 'string'), ('pronto_socorro_sus', 'string'), ('hospital_sus', 'string'), ('ambulatorio_consultorio_privado_ou_forcas_armadas', 'string'), ('pronto_socorro_privado_ou_forcas_armadas', 'string'), ('hospital_privado_ou_forcas_armadas', 'string'), ('internado_um_dia_mais', 'string'), ('sedado_entubado_ventilado', 'string'), ('tem_plano_saude', 'string'), ('realizou_teste_coronavirus', 'string'), ('cotonete', 'string'), ('resultado_cotonete', 'string'), ('coleta_sangue_dedo', 'string'), ('resultado_sangue_dedo', 'string'), ('coleta_sanque_braco', 'string'), ('resultado_sangue_braco', 'string'), ('diabetes', 'string'), ('hipertensao', 'string'), ('doenca_respiratoria_cronica_ou_pulmao', 'string'), ('doenca_cardiaca', 'string'), ('depressao', 'string'), ('cancer', 'string'), ('trabalhou_uma_hora_mais', 'string'), ('afastamento_trabalho', 'string'), ('motivo_afastamento', 'string'), ('horas_semana_trabalho_normal', 'int'), ('horas_semana_trabalho_realizadas', 'int'), ('valor_dinheiro', 'int'), ('contrato_trabalho_estava_suspenso', 'string'), ('trabalho_no_mesmo_local', 'string'), ('trabalho_remoto', 'string'), ('auxilios_emergenciais_coronavirus', 'string'), ('valor_recebido_auxilios_emergenciais', 'double'), ('seguro_desemprego', 'string'), ('valor_recebido_seguro_desemprego', 'double'), ('solicitou_emprestimo', 'string')]\n",
      "Schema: StructType([StructField('uf', StringType(), True), StructField('semana', IntegerType(), True), StructField('mes', IntegerType(), True), StructField('no_entrevista', IntegerType(), True), StructField('estrato', IntegerType(), True), StructField('upa', IntegerType(), True), StructField('respondente', StringType(), True), StructField('status_domicilio', StringType(), True), StructField('proj_populacao', IntegerType(), True), StructField('condicao_no_domicilio', StringType(), True), StructField('idade_morador', IntegerType(), True), StructField('sexo', StringType(), True), StructField('cor_raca', StringType(), True), StructField('escolaridade', StringType(), True), StructField('frequenta_escola', StringType(), True), StructField('atividades_escolares_realizar_em_casa', StringType(), True), StructField('dias_dedicados_atividades_escolares', StringType(), True), StructField('tempo_diario_atividades_escolares', StringType(), True), StructField('ensino_publico_ou_privado', StringType(), True), StructField('tendo_aulas_presenciais', StringType(), True), StructField('domicilio_tem_sabao_detergente', StringType(), True), StructField('domicilio_tem_alcool_70mais', StringType(), True), StructField('domicilio_tem_mascaras', StringType(), True), StructField('domicilio_tem_luvas_descartaveis', StringType(), True), StructField('domicilio_tem_agua_sanitaria_desinfetante', StringType(), True), StructField('febre', StringType(), True), StructField('tosse', StringType(), True), StructField('dor_garganta', StringType(), True), StructField('dificuldade_respirar', StringType(), True), StructField('dor_cabeca', StringType(), True), StructField('dor_peito', StringType(), True), StructField('nausea', StringType(), True), StructField('nariz_entupido_coriza', StringType(), True), StructField('fadiga', StringType(), True), StructField('dor_olhos', StringType(), True), StructField('perda_olfato_paladar', StringType(), True), StructField('dor_muscular', StringType(), True), StructField('diarreia', StringType(), True), StructField('como_restringiu_contato_fisico', StringType(), True), StructField('compareceu_estabelecimento_de_saude', StringType(), True), StructField('ficou_em_casa', StringType(), True), StructField('ligou_profissional_saude', StringType(), True), StructField('automedicou', StringType(), True), StructField('prescricao_medica', StringType(), True), StructField('visita_profissional_saude_sus', StringType(), True), StructField('visita_de_profissional_saude_particular', StringType(), True), StructField('outra_providencia', StringType(), True), StructField('unidade_basica_saude_sus', StringType(), True), StructField('pronto_socorro_sus', StringType(), True), StructField('hospital_sus', StringType(), True), StructField('ambulatorio_consultorio_privado_ou_forcas_armadas', StringType(), True), StructField('pronto_socorro_privado_ou_forcas_armadas', StringType(), True), StructField('hospital_privado_ou_forcas_armadas', StringType(), True), StructField('internado_um_dia_mais', StringType(), True), StructField('sedado_entubado_ventilado', StringType(), True), StructField('tem_plano_saude', StringType(), True), StructField('realizou_teste_coronavirus', StringType(), True), StructField('cotonete', StringType(), True), StructField('resultado_cotonete', StringType(), True), StructField('coleta_sangue_dedo', StringType(), True), StructField('resultado_sangue_dedo', StringType(), True), StructField('coleta_sanque_braco', StringType(), True), StructField('resultado_sangue_braco', StringType(), True), StructField('diabetes', StringType(), True), StructField('hipertensao', StringType(), True), StructField('doenca_respiratoria_cronica_ou_pulmao', StringType(), True), StructField('doenca_cardiaca', StringType(), True), StructField('depressao', StringType(), True), StructField('cancer', StringType(), True), StructField('trabalhou_uma_hora_mais', StringType(), True), StructField('afastamento_trabalho', StringType(), True), StructField('motivo_afastamento', StringType(), True), StructField('horas_semana_trabalho_normal', IntegerType(), True), StructField('horas_semana_trabalho_realizadas', IntegerType(), True), StructField('valor_dinheiro', IntegerType(), True), StructField('contrato_trabalho_estava_suspenso', StringType(), True), StructField('trabalho_no_mesmo_local', StringType(), True), StructField('trabalho_remoto', StringType(), True), StructField('auxilios_emergenciais_coronavirus', StringType(), True), StructField('valor_recebido_auxilios_emergenciais', DoubleType(), True), StructField('seguro_desemprego', StringType(), True), StructField('valor_recebido_seguro_desemprego', DoubleType(), True), StructField('solicitou_emprestimo', StringType(), True)])\n"
     ]
    }
   ],
   "source": [
    "print('Total de linhas:', df.count()) # conta o número de linhas\n",
    "print('Total de colunas:', df.columns) # mostra o nome de cada coluna\n",
    "print('Colunas:', len(df.columns)) # mostra o nome de cada coluna\n",
    "print('Tipos de dados:', df.dtypes) # mostra o tipo de dado de cada coluna\n",
    "print('Schema:', df.schema) # mostra o esquema do dataframe"
   ]
  },
  {
   "cell_type": "markdown",
   "metadata": {},
   "source": [
    "# Preparar os dados"
   ]
  },
  {
   "cell_type": "code",
   "execution_count": 11,
   "metadata": {},
   "outputs": [
    {
     "name": "stdout",
     "output_type": "stream",
     "text": [
      "+------------+\n",
      "|      regiao|\n",
      "+------------+\n",
      "|       Norte|\n",
      "|    Nordeste|\n",
      "|     Sudeste|\n",
      "|         Sul|\n",
      "|Centro-Oeste|\n",
      "+------------+\n",
      "\n"
     ]
    }
   ],
   "source": [
    "# classificar estados por região in df withColumn\n",
    "# colocar para cima\n",
    "\n",
    "# conferir regiões\n",
    "# create a new column with the region of each state\n",
    "df = df.withColumn('regiao', \n",
    "                    F.when(col('uf').isin('Acre', 'Amazonas', 'Roraima', 'Amapá', 'Pará', 'Tocantins', 'Rondônia'), 'Norte')\n",
    "                        .when(col('uf').isin('Maranhão', 'Piauí', 'Ceará', 'Rio Grande do Norte', 'Paraíba', 'Pernambuco', 'Alagoas', 'Sergipe', 'Bahia'), 'Nordeste')\n",
    "                        .when(col('uf').isin('Minas Gerais', 'Espírito Santo', 'Rio de Janeiro', 'São Paulo'), 'Sudeste')\n",
    "                        .when(col('uf').isin('Paraná', 'Santa Catarina', 'Rio Grande do Sul'), 'Sul')\n",
    "                        .when(col('uf').isin('Mato Grosso', 'Mato Grosso do Sul', 'Goiás', 'Distrito Federal'), 'Centro-Oeste')\n",
    "                        .otherwise(''))\n",
    "\n",
    "# check\n",
    "df.select('regiao').distinct().show()"
   ]
  },
  {
   "cell_type": "code",
   "execution_count": 12,
   "metadata": {},
   "outputs": [
    {
     "name": "stdout",
     "output_type": "stream",
     "text": [
      "+--------+------+------+---+-------------+-------+---------+---------------+----------------+--------------+---------------------+-------------+---------+--------+--------------------+----------------+-------------------------------------+-----------------------------------+---------------------------------+-------------------------+-----------------------+------------------------------+---------------------------+----------------------+--------------------------------+-----------------------------------------+-----+-----+------------+--------------------+----------+---------+------+---------------------+------+---------+--------------------+------------+--------+------------------------------+-----------------------------------+--------------------+------------------------+--------------------+--------------------+-----------------------------+---------------------------------------+--------------------+------------------------+--------------------+--------------------+-------------------------------------------------+----------------------------------------+----------------------------------+---------------------+-------------------------+---------------+--------------------------+--------+--------------------+------------------+---------------------+--------------------+----------------------+--------+-----------+-------------------------------------+---------------+---------+------+-----------------------+--------------------+--------------------+----------------------------+--------------------------------+--------------+---------------------------------+-----------------------+-------------------+---------------------------------+------------------------------------+-----------------+--------------------------------+--------------------+\n",
      "|      uf|regiao|semana|mes|no_entrevista|estrato|      upa|    respondente|status_domicilio|proj_populacao|condicao_no_domicilio|idade_morador|     sexo|cor_raca|        escolaridade|frequenta_escola|atividades_escolares_realizar_em_casa|dias_dedicados_atividades_escolares|tempo_diario_atividades_escolares|ensino_publico_ou_privado|tendo_aulas_presenciais|domicilio_tem_sabao_detergente|domicilio_tem_alcool_70mais|domicilio_tem_mascaras|domicilio_tem_luvas_descartaveis|domicilio_tem_agua_sanitaria_desinfetante|febre|tosse|dor_garganta|dificuldade_respirar|dor_cabeca|dor_peito|nausea|nariz_entupido_coriza|fadiga|dor_olhos|perda_olfato_paladar|dor_muscular|diarreia|como_restringiu_contato_fisico|compareceu_estabelecimento_de_saude|       ficou_em_casa|ligou_profissional_saude|         automedicou|   prescricao_medica|visita_profissional_saude_sus|visita_de_profissional_saude_particular|   outra_providencia|unidade_basica_saude_sus|  pronto_socorro_sus|        hospital_sus|ambulatorio_consultorio_privado_ou_forcas_armadas|pronto_socorro_privado_ou_forcas_armadas|hospital_privado_ou_forcas_armadas|internado_um_dia_mais|sedado_entubado_ventilado|tem_plano_saude|realizou_teste_coronavirus|cotonete|  resultado_cotonete|coleta_sangue_dedo|resultado_sangue_dedo| coleta_sanque_braco|resultado_sangue_braco|diabetes|hipertensao|doenca_respiratoria_cronica_ou_pulmao|doenca_cardiaca|depressao|cancer|trabalhou_uma_hora_mais|afastamento_trabalho|  motivo_afastamento|horas_semana_trabalho_normal|horas_semana_trabalho_realizadas|valor_dinheiro|contrato_trabalho_estava_suspenso|trabalho_no_mesmo_local|    trabalho_remoto|auxilios_emergenciais_coronavirus|valor_recebido_auxilios_emergenciais|seguro_desemprego|valor_recebido_seguro_desemprego|solicitou_emprestimo|\n",
      "+--------+------+------+---+-------------+-------+---------+---------------+----------------+--------------+---------------------+-------------+---------+--------+--------------------+----------------+-------------------------------------+-----------------------------------+---------------------------------+-------------------------+-----------------------+------------------------------+---------------------------+----------------------+--------------------------------+-----------------------------------------+-----+-----+------------+--------------------+----------+---------+------+---------------------+------+---------+--------------------+------------+--------+------------------------------+-----------------------------------+--------------------+------------------------+--------------------+--------------------+-----------------------------+---------------------------------------+--------------------+------------------------+--------------------+--------------------+-------------------------------------------------+----------------------------------------+----------------------------------+---------------------+-------------------------+---------------+--------------------------+--------+--------------------+------------------+---------------------+--------------------+----------------------+--------+-----------+-------------------------------------+---------------+---------+------+-----------------------+--------------------+--------------------+----------------------------+--------------------------------+--------------+---------------------------------+-----------------------+-------------------+---------------------------------+------------------------------------+-----------------+--------------------------------+--------------------+\n",
      "|Rondônia| Norte|     4|  9|            5|1110011|110015970|Pessoa moradora|          Urbana|        152677| Pessoa responsáve...|           36|masculino|   Parda|      Médio completo|   Não informado|                 Não informado / N...|                      Não informado|                    Não informado|            Não informado|          Não informado|                           Sim|                        Sim|                   Sim|                            Não |                                      Sim| Não | Não |        Não |                Não |      Não |     Não |  Não |                 Não |  Não |     Não |                Não |        Não |    Não |          Reduziu o contato...|               Ignorado / Não ap...|Ignorado / Não ap...|    Ignorado / Não ap...|Ignorado / Não ap...|Ignorado / Não ap...|         Ignorado / Não ap...|                   Ignorado / Não ap...|Ignorado / Não ap...|    Ignorado / Não ap...|Ignorado / Não ap...|Ignorado / Não ap...|                             Ignorado / Não ap...|                    Ignorado / Não ap...|              Ignorado / Não ap...| Ignorado / Não ap...|     Ignorado / Não ap...|            Sim|                      Não |Ignorado|Ignorado / Não ap...|          Ignorado| Ignorado / Não ap...|Ignorado / Não ap...|  Ignorado / Não ap...|     Não|        Não|                                  Não|            Não|      Não|   Não|                    Sim| Não / Não aplicável|Ignorado / Não ap...|                          48|                              48|          1045|              Não / Não aplicável|                    Sim|Não / Não aplicável|                              Sim|                              1200.0|              Não|                             0.0|       Não solicitou|\n",
      "|Rondônia| Norte|     4|  9|            5|1110011|110015970|Pessoa moradora|          Urbana|        150642| Cônjuge ou compan...|           30| feminino|   Parda|   Superior completo|   Não informado|                 Não informado / N...|                      Não informado|                    Não informado|            Não informado|          Não informado|                           Sim|                        Sim|                   Sim|                            Não |                                      Sim| Não | Não |        Não |                Não |      Não |     Não |  Não |                 Não |  Não |     Não |                Não |        Não |    Não |          Reduziu o contato...|               Ignorado / Não ap...|Ignorado / Não ap...|    Ignorado / Não ap...|Ignorado / Não ap...|Ignorado / Não ap...|         Ignorado / Não ap...|                   Ignorado / Não ap...|Ignorado / Não ap...|    Ignorado / Não ap...|Ignorado / Não ap...|Ignorado / Não ap...|                             Ignorado / Não ap...|                    Ignorado / Não ap...|              Ignorado / Não ap...| Ignorado / Não ap...|     Ignorado / Não ap...|           Não |                      Não |Ignorado|Ignorado / Não ap...|          Ignorado| Ignorado / Não ap...|Ignorado / Não ap...|  Ignorado / Não ap...|     Não|        Não|                                  Não|            Não|      Não|   Não|                    Sim| Não / Não aplicável|Ignorado / Não ap...|                          36|                              36|          1045|              Não / Não aplicável|                    Sim|Não / Não aplicável|                              Sim|                              1200.0|              Não|                             0.0|       Não solicitou|\n",
      "|Rondônia| Norte|     4|  9|            5|1110011|110015970|Pessoa moradora|          Urbana|        145237| Filho(a) do respo...|           13|masculino|   Parda|Fundamental incom...|             Sim|                 Sim, e realizou p...|                             5 dias|             De 2 horas a meno...|            Não informado|          Não informado|                           Sim|                        Sim|                   Sim|                            Não |                                      Sim| Não | Não |        Não |                Não |      Não |     Não |  Não |                 Não |  Não |     Não |                Não |        Não |    Não |          Ficou rigorosamen...|               Ignorado / Não ap...|Ignorado / Não ap...|    Ignorado / Não ap...|Ignorado / Não ap...|Ignorado / Não ap...|         Ignorado / Não ap...|                   Ignorado / Não ap...|Ignorado / Não ap...|    Ignorado / Não ap...|Ignorado / Não ap...|Ignorado / Não ap...|                             Ignorado / Não ap...|                    Ignorado / Não ap...|              Ignorado / Não ap...| Ignorado / Não ap...|     Ignorado / Não ap...|            Sim|                      Não |Ignorado|Ignorado / Não ap...|          Ignorado| Ignorado / Não ap...|Ignorado / Não ap...|  Ignorado / Não ap...|     Não|        Não|                                  Não|            Não|      Não|   Não|    Não / Não aplicável| Não / Não aplicável|Ignorado / Não ap...|                           0|                               0|             0|              Não / Não aplicável|    Não / Não aplicável|Não / Não aplicável|                              Sim|                              1200.0|              Não|                             0.0|       Não solicitou|\n",
      "|Rondônia| Norte|     4|  9|            5|1110011|110015970|Pessoa moradora|          Urbana|        145237| Filho(a) do respo...|           11|masculino|   Parda|Fundamental incom...|             Sim|                 Sim, e realizou p...|                             5 dias|             De 2 horas a meno...|            Não informado|          Não informado|                           Sim|                        Sim|                   Sim|                            Não |                                      Sim| Não | Não |        Não |                Não |      Não |     Não |  Não |                 Não |  Não |     Não |                Não |        Não |    Não |          Ficou rigorosamen...|               Ignorado / Não ap...|Ignorado / Não ap...|    Ignorado / Não ap...|Ignorado / Não ap...|Ignorado / Não ap...|         Ignorado / Não ap...|                   Ignorado / Não ap...|Ignorado / Não ap...|    Ignorado / Não ap...|Ignorado / Não ap...|Ignorado / Não ap...|                             Ignorado / Não ap...|                    Ignorado / Não ap...|              Ignorado / Não ap...| Ignorado / Não ap...|     Ignorado / Não ap...|            Sim|                      Não |Ignorado|Ignorado / Não ap...|          Ignorado| Ignorado / Não ap...|Ignorado / Não ap...|  Ignorado / Não ap...|     Não|        Não|                                  Não|            Não|      Não|   Não|    Não / Não aplicável| Não / Não aplicável|Ignorado / Não ap...|                           0|                               0|             0|              Não / Não aplicável|    Não / Não aplicável|Não / Não aplicável|                              Sim|                              1200.0|              Não|                             0.0|       Não solicitou|\n",
      "|Rondônia| Norte|     1|  9|            5|1110011|110015970|Pessoa moradora|          Urbana|         91889| Pessoa responsáve...|           57| feminino|  Branca|Fundamental incom...|   Não informado|                 Não informado / N...|                      Não informado|                    Não informado|            Não informado|          Não informado|                           Sim|                        Sim|                   Sim|                            Não |                                      Sim| Não | Não |        Não |                Não |      Não |     Não |  Não |                 Não |  Não |     Não |                Não |        Não |    Não |          Reduziu o contato...|               Ignorado / Não ap...|Ignorado / Não ap...|    Ignorado / Não ap...|Ignorado / Não ap...|Ignorado / Não ap...|         Ignorado / Não ap...|                   Ignorado / Não ap...|Ignorado / Não ap...|    Ignorado / Não ap...|Ignorado / Não ap...|Ignorado / Não ap...|                             Ignorado / Não ap...|                    Ignorado / Não ap...|              Ignorado / Não ap...| Ignorado / Não ap...|     Ignorado / Não ap...|           Não |                      Não |Ignorado|Ignorado / Não ap...|          Ignorado| Ignorado / Não ap...|Ignorado / Não ap...|  Ignorado / Não ap...|     Não|        Não|                                  Não|            Não|      Não|   Não|    Não / Não aplicável| Não / Não aplicável|Ignorado / Não ap...|                           0|                               0|             0|              Não / Não aplicável|    Não / Não aplicável|Não / Não aplicável|                              Não|                                 0.0|              Não|                             0.0|       Não solicitou|\n",
      "|Rondônia| Norte|     2|  9|            5|1110011|110015970|Pessoa moradora|          Urbana|         91889| Pessoa responsáve...|           58| feminino|   Preta|       Sem instrução|   Não informado|                 Não informado / N...|                      Não informado|                    Não informado|            Não informado|          Não informado|                           Sim|                        Sim|                   Sim|                            Não |                                      Sim| Não | Não |        Não |                Não |      Não |     Não |  Não |                 Não |  Não |     Não |                Não |        Não |    Não |          Ficou em casa e s...|               Ignorado / Não ap...|Ignorado / Não ap...|    Ignorado / Não ap...|Ignorado / Não ap...|Ignorado / Não ap...|         Ignorado / Não ap...|                   Ignorado / Não ap...|Ignorado / Não ap...|    Ignorado / Não ap...|Ignorado / Não ap...|Ignorado / Não ap...|                             Ignorado / Não ap...|                    Ignorado / Não ap...|              Ignorado / Não ap...| Ignorado / Não ap...|     Ignorado / Não ap...|           Não |                      Não |Ignorado|Ignorado / Não ap...|          Ignorado| Ignorado / Não ap...|Ignorado / Não ap...|  Ignorado / Não ap...|     Sim|        Sim|                                  Não|            Não|      Não|   Não|                    Sim| Não / Não aplicável|Ignorado / Não ap...|                          40|                              40|           100|              Não / Não aplicável|                    Sim|Não / Não aplicável|                              Não|                                 0.0|              Não|                             0.0|       Não solicitou|\n",
      "|Rondônia| Norte|     4|  9|            5|1110011|110015970|Pessoa moradora|          Urbana|        123242| Pessoa responsáve...|           47|masculino|   Parda|Fundamental incom...|   Não informado|                 Não informado / N...|                      Não informado|                    Não informado|            Não informado|          Não informado|                           Sim|                        Sim|                   Sim|                            Não |                                      Sim| Não | Não |        Não |                Não |      Não |     Não |  Não |                 Não |  Não |     Não |                Não |        Não |    Não |          Reduziu o contato...|               Ignorado / Não ap...|Ignorado / Não ap...|    Ignorado / Não ap...|Ignorado / Não ap...|Ignorado / Não ap...|         Ignorado / Não ap...|                   Ignorado / Não ap...|Ignorado / Não ap...|    Ignorado / Não ap...|Ignorado / Não ap...|Ignorado / Não ap...|                             Ignorado / Não ap...|                    Ignorado / Não ap...|              Ignorado / Não ap...| Ignorado / Não ap...|     Ignorado / Não ap...|           Não |                      Não |Ignorado|Ignorado / Não ap...|          Ignorado| Ignorado / Não ap...|Ignorado / Não ap...|  Ignorado / Não ap...|     Não|        Não|                                  Não|            Não|      Não|   Não|                    Sim| Não / Não aplicável|Ignorado / Não ap...|                          40|                              20|          1500|              Não / Não aplicável|                    Sim|Não / Não aplicável|                              Sim|                               600.0|              Não|                             0.0|       Não solicitou|\n",
      "|Rondônia| Norte|     4|  9|            5|1110011|110015970|Pessoa moradora|          Urbana|        139056| Filho(a) somente ...|           18| feminino|   Parda|Fundamental incom...|             Não|                 Não informado / N...|                      Não informado|                    Não informado|            Não informado|          Não informado|                           Sim|                        Sim|                   Sim|                            Não |                                      Sim| Não | Não |        Não |                Não |      Não |     Não |  Não |                 Não |  Não |     Não |                Não |        Não |    Não |          Ficou em casa e s...|               Ignorado / Não ap...|Ignorado / Não ap...|    Ignorado / Não ap...|Ignorado / Não ap...|Ignorado / Não ap...|         Ignorado / Não ap...|                   Ignorado / Não ap...|Ignorado / Não ap...|    Ignorado / Não ap...|Ignorado / Não ap...|Ignorado / Não ap...|                             Ignorado / Não ap...|                    Ignorado / Não ap...|              Ignorado / Não ap...| Ignorado / Não ap...|     Ignorado / Não ap...|           Não |                      Não |Ignorado|Ignorado / Não ap...|          Ignorado| Ignorado / Não ap...|Ignorado / Não ap...|  Ignorado / Não ap...|     Não|        Não|                                  Não|            Não|      Não|   Não|    Não / Não aplicável| Não / Não aplicável|Ignorado / Não ap...|                           0|                               0|             0|              Não / Não aplicável|    Não / Não aplicável|Não / Não aplicável|                              Sim|                               600.0|              Não|                             0.0|       Não solicitou|\n",
      "|Rondônia| Norte|     4|  9|            5|1110011|110015970|Pessoa moradora|          Urbana|        145237| Filho(a) somente ...|           11|masculino|   Parda|Fundamental incom...|             Sim|                 Não informado / N...|                      Não informado|                    Não informado|            Não informado|          Não informado|                           Sim|                        Sim|                   Sim|                            Não |                                      Sim| Não | Não |        Não |                Não |      Não |     Não |  Não |                 Não |  Não |     Não |                Não |        Não |    Não |          Ficou rigorosamen...|               Ignorado / Não ap...|Ignorado / Não ap...|    Ignorado / Não ap...|Ignorado / Não ap...|Ignorado / Não ap...|         Ignorado / Não ap...|                   Ignorado / Não ap...|Ignorado / Não ap...|    Ignorado / Não ap...|Ignorado / Não ap...|Ignorado / Não ap...|                             Ignorado / Não ap...|                    Ignorado / Não ap...|              Ignorado / Não ap...| Ignorado / Não ap...|     Ignorado / Não ap...|           Não |                      Não |Ignorado|Ignorado / Não ap...|          Ignorado| Ignorado / Não ap...|Ignorado / Não ap...|  Ignorado / Não ap...|     Não|        Não|                                  Não|            Não|      Não|   Não|    Não / Não aplicável| Não / Não aplicável|Ignorado / Não ap...|                           0|                               0|             0|              Não / Não aplicável|    Não / Não aplicável|Não / Não aplicável|                              Sim|                               600.0|              Não|                             0.0|       Não solicitou|\n",
      "|Rondônia| Norte|     4|  9|            5|1110011|110015970|Pessoa moradora|          Urbana|        134071| Filho(a) somente ...|            9| feminino|   Parda|Fundamental incom...|             Sim|                 Não informado / N...|                      Não informado|                    Não informado|            Não informado|          Não informado|                           Sim|                        Sim|                   Sim|                            Não |                                      Sim| Não | Não |        Não |                Não |      Não |     Não |  Não |                 Não |  Não |     Não |                Não |        Não |    Não |          Ficou rigorosamen...|               Ignorado / Não ap...|Ignorado / Não ap...|    Ignorado / Não ap...|Ignorado / Não ap...|Ignorado / Não ap...|         Ignorado / Não ap...|                   Ignorado / Não ap...|Ignorado / Não ap...|    Ignorado / Não ap...|Ignorado / Não ap...|Ignorado / Não ap...|                             Ignorado / Não ap...|                    Ignorado / Não ap...|              Ignorado / Não ap...| Ignorado / Não ap...|     Ignorado / Não ap...|           Não |                      Não |Ignorado|Ignorado / Não ap...|          Ignorado| Ignorado / Não ap...|Ignorado / Não ap...|  Ignorado / Não ap...|     Não|        Não|                                  Não|            Não|      Não|   Não|    Não / Não aplicável| Não / Não aplicável|Ignorado / Não ap...|                           0|                               0|             0|              Não / Não aplicável|    Não / Não aplicável|Não / Não aplicável|                              Sim|                               600.0|              Não|                             0.0|       Não solicitou|\n",
      "|Rondônia| Norte|     4|  9|            5|1110011|110015970|Pessoa moradora|          Urbana|        145237| Filho(a) somente ...|           10|masculino|   Parda|Fundamental incom...|             Sim|                 Não informado / N...|                      Não informado|                    Não informado|            Não informado|          Não informado|                           Sim|                        Sim|                   Sim|                            Não |                                      Sim| Não | Não |        Não |                Não |      Não |     Não |  Não |                 Não |  Não |     Não |                Não |        Não |    Não |          Ficou rigorosamen...|               Ignorado / Não ap...|Ignorado / Não ap...|    Ignorado / Não ap...|Ignorado / Não ap...|Ignorado / Não ap...|         Ignorado / Não ap...|                   Ignorado / Não ap...|Ignorado / Não ap...|    Ignorado / Não ap...|Ignorado / Não ap...|Ignorado / Não ap...|                             Ignorado / Não ap...|                    Ignorado / Não ap...|              Ignorado / Não ap...| Ignorado / Não ap...|     Ignorado / Não ap...|           Não |                      Não |Ignorado|Ignorado / Não ap...|          Ignorado| Ignorado / Não ap...|Ignorado / Não ap...|  Ignorado / Não ap...|     Não|        Não|                                  Não|            Não|      Não|   Não|    Não / Não aplicável| Não / Não aplicável|Ignorado / Não ap...|                           0|                               0|             0|              Não / Não aplicável|    Não / Não aplicável|Não / Não aplicável|                              Sim|                               600.0|              Não|                             0.0|       Não solicitou|\n",
      "|Rondônia| Norte|     4|  9|            5|1110011|110015970|Pessoa moradora|          Urbana|        157535| Filho(a) somente ...|           26|masculino|   Parda|      Médio completo|             Não|                 Não informado / N...|                      Não informado|                    Não informado|            Não informado|          Não informado|                           Sim|                        Sim|                   Sim|                            Não |                                      Sim| Não | Não |        Não |                Não |      Não |     Não |  Não |                 Não |  Não |     Não |                Não |        Não |    Não |          Reduziu o contato...|               Ignorado / Não ap...|Ignorado / Não ap...|    Ignorado / Não ap...|Ignorado / Não ap...|Ignorado / Não ap...|         Ignorado / Não ap...|                   Ignorado / Não ap...|Ignorado / Não ap...|    Ignorado / Não ap...|Ignorado / Não ap...|Ignorado / Não ap...|                             Ignorado / Não ap...|                    Ignorado / Não ap...|              Ignorado / Não ap...| Ignorado / Não ap...|     Ignorado / Não ap...|           Não |                      Não |Ignorado|Ignorado / Não ap...|          Ignorado| Ignorado / Não ap...|Ignorado / Não ap...|  Ignorado / Não ap...|     Não|        Não|                                  Não|            Não|      Não|   Não|                    Sim| Não / Não aplicável|Ignorado / Não ap...|                          40|                              40|          1500|              Não / Não aplicável|                    Sim|Não / Não aplicável|                              Sim|                               600.0|              Não|                             0.0|       Não solicitou|\n",
      "|Rondônia| Norte|     4|  9|            5|1110011|110015970|Pessoa moradora|          Urbana|        145237| Filho(a) somente ...|           14|masculino| Amarela|Fundamental incom...|             Sim|                 Não informado / N...|                      Não informado|                    Não informado|            Não informado|          Não informado|                           Sim|                        Sim|                   Sim|                            Não |                                      Sim| Não | Não |        Não |                Não |      Não |     Não |  Não |                 Não |  Não |     Não |                Não |        Não |    Não |          Ficou rigorosamen...|               Ignorado / Não ap...|Ignorado / Não ap...|    Ignorado / Não ap...|Ignorado / Não ap...|Ignorado / Não ap...|         Ignorado / Não ap...|                   Ignorado / Não ap...|Ignorado / Não ap...|    Ignorado / Não ap...|Ignorado / Não ap...|Ignorado / Não ap...|                             Ignorado / Não ap...|                    Ignorado / Não ap...|              Ignorado / Não ap...| Ignorado / Não ap...|     Ignorado / Não ap...|           Não |                      Não |Ignorado|Ignorado / Não ap...|          Ignorado| Ignorado / Não ap...|Ignorado / Não ap...|  Ignorado / Não ap...|     Não|        Não|                                  Não|            Não|      Não|   Não|    Não / Não aplicável| Não / Não aplicável|Ignorado / Não ap...|                           0|                               0|             0|              Não / Não aplicável|    Não / Não aplicável|Não / Não aplicável|                              Sim|                               600.0|              Não|                             0.0|       Não solicitou|\n",
      "|Rondônia| Norte|     4|  9|            5|1110011|110015970|Pessoa moradora|          Urbana|        139056| Filho(a) somente ...|           15| feminino|   Parda|Fundamental incom...|             Sim|                 Não informado / N...|                      Não informado|                    Não informado|            Não informado|          Não informado|                           Sim|                        Sim|                   Sim|                            Não |                                      Sim| Não | Não |        Não |                Não |      Não |     Não |  Não |                 Não |  Não |     Não |                Não |        Não |    Não |          Ficou rigorosamen...|               Ignorado / Não ap...|Ignorado / Não ap...|    Ignorado / Não ap...|Ignorado / Não ap...|Ignorado / Não ap...|         Ignorado / Não ap...|                   Ignorado / Não ap...|Ignorado / Não ap...|    Ignorado / Não ap...|Ignorado / Não ap...|Ignorado / Não ap...|                             Ignorado / Não ap...|                    Ignorado / Não ap...|              Ignorado / Não ap...| Ignorado / Não ap...|     Ignorado / Não ap...|           Não |                      Não |Ignorado|Ignorado / Não ap...|          Ignorado| Ignorado / Não ap...|Ignorado / Não ap...|  Ignorado / Não ap...|     Não|        Não|                                  Não|            Não|      Não|   Não|    Não / Não aplicável| Não / Não aplicável|Ignorado / Não ap...|                           0|                               0|             0|              Não / Não aplicável|    Não / Não aplicável|Não / Não aplicável|                              Sim|                               600.0|              Não|                             0.0|       Não solicitou|\n",
      "|Rondônia| Norte|     4|  9|            5|1110011|110015970|Pessoa moradora|          Urbana|        150642| Cônjuge ou compan...|           33| feminino|   Parda|Fundamental incom...|   Não informado|                 Não informado / N...|                      Não informado|                    Não informado|            Não informado|          Não informado|                           Sim|                        Sim|                   Sim|                            Não |                                      Sim| Não | Não |        Não |                Não |      Não |     Não |  Não |                 Não |  Não |     Não |                Não |        Não |    Não |          Ficou em casa e s...|               Ignorado / Não ap...|Ignorado / Não ap...|    Ignorado / Não ap...|Ignorado / Não ap...|Ignorado / Não ap...|         Ignorado / Não ap...|                   Ignorado / Não ap...|Ignorado / Não ap...|    Ignorado / Não ap...|Ignorado / Não ap...|Ignorado / Não ap...|                             Ignorado / Não ap...|                    Ignorado / Não ap...|              Ignorado / Não ap...| Ignorado / Não ap...|     Ignorado / Não ap...|           Não |                      Não |Ignorado|Ignorado / Não ap...|          Ignorado| Ignorado / Não ap...|Ignorado / Não ap...|  Ignorado / Não ap...|     Não|        Não|                                  Não|            Não|      Não|   Não|    Não / Não aplicável| Não / Não aplicável|Ignorado / Não ap...|                           0|                               0|             0|              Não / Não aplicável|    Não / Não aplicável|Não / Não aplicável|                              Sim|                               600.0|              Não|                             0.0|       Não solicitou|\n",
      "|Rondônia| Norte|     3|  9|            5|1110011|110015970|Pessoa moradora|          Urbana|         56521| Pessoa responsáve...|           62|masculino|   Parda|       Sem instrução|   Não informado|                 Não informado / N...|                      Não informado|                    Não informado|            Não informado|          Não informado|                           Sim|                        Sim|                   Sim|                             Sim|                                      Sim| Não | Não |        Não |                Não |      Não |     Não |  Não |                 Não |  Não |     Não |                Não |        Não |    Não |          Reduziu o contato...|               Ignorado / Não ap...|Ignorado / Não ap...|    Ignorado / Não ap...|Ignorado / Não ap...|Ignorado / Não ap...|         Ignorado / Não ap...|                   Ignorado / Não ap...|Ignorado / Não ap...|    Ignorado / Não ap...|Ignorado / Não ap...|Ignorado / Não ap...|                             Ignorado / Não ap...|                    Ignorado / Não ap...|              Ignorado / Não ap...| Ignorado / Não ap...|     Ignorado / Não ap...|           Não |                      Não |Ignorado|Ignorado / Não ap...|          Ignorado| Ignorado / Não ap...|Ignorado / Não ap...|  Ignorado / Não ap...|     Não|        Não|                                  Não|            Não|      Não|   Não|                    Sim| Não / Não aplicável|Ignorado / Não ap...|                          44|                              44|          1045|              Não / Não aplicável|                    Sim|Não / Não aplicável|                              Sim|                               600.0|              Não|                             0.0|       Não solicitou|\n",
      "|Rondônia| Norte|     3|  9|            5|1110011|110015970|Pessoa moradora|          Urbana|         55357| Cônjuge ou compan...|           62| feminino|   Parda|Fundamental incom...|   Não informado|                 Não informado / N...|                      Não informado|                    Não informado|            Não informado|          Não informado|                           Sim|                        Sim|                   Sim|                             Sim|                                      Sim| Não | Não |        Não |                Não |      Não |     Não |  Não |                 Não |  Não |     Não |                Não |        Não |    Não |          Reduziu o contato...|               Ignorado / Não ap...|Ignorado / Não ap...|    Ignorado / Não ap...|Ignorado / Não ap...|Ignorado / Não ap...|         Ignorado / Não ap...|                   Ignorado / Não ap...|Ignorado / Não ap...|    Ignorado / Não ap...|Ignorado / Não ap...|Ignorado / Não ap...|                             Ignorado / Não ap...|                    Ignorado / Não ap...|              Ignorado / Não ap...| Ignorado / Não ap...|     Ignorado / Não ap...|           Não |                      Não |Ignorado|Ignorado / Não ap...|          Ignorado| Ignorado / Não ap...|Ignorado / Não ap...|  Ignorado / Não ap...|     Não|        Não|                                  Não|            Não|      Não|   Não|    Não / Não aplicável| Não / Não aplicável|Ignorado / Não ap...|                           0|                               0|             0|              Não / Não aplicável|    Não / Não aplicável|Não / Não aplicável|                              Sim|                               600.0|              Não|                             0.0|       Não solicitou|\n",
      "|Rondônia| Norte|     2|  9|            5|1110011|110015970|Pessoa moradora|          Urbana|         91889| Pessoa responsáve...|           56| feminino|   Parda|Fundamental incom...|   Não informado|                 Não informado / N...|                      Não informado|                    Não informado|            Não informado|          Não informado|                           Sim|                        Sim|                   Sim|                            Não |                                      Sim| Não | Não |        Não |                Não |      Não |     Não |  Não |                 Não |  Não |     Não |                Não |        Não |    Não |          Reduziu o contato...|               Ignorado / Não ap...|Ignorado / Não ap...|    Ignorado / Não ap...|Ignorado / Não ap...|Ignorado / Não ap...|         Ignorado / Não ap...|                   Ignorado / Não ap...|Ignorado / Não ap...|    Ignorado / Não ap...|Ignorado / Não ap...|Ignorado / Não ap...|                             Ignorado / Não ap...|                    Ignorado / Não ap...|              Ignorado / Não ap...| Ignorado / Não ap...|     Ignorado / Não ap...|           Não |                      Não |Ignorado|Ignorado / Não ap...|          Ignorado| Ignorado / Não ap...|Ignorado / Não ap...|  Ignorado / Não ap...|     Não|        Não|                                  Sim|            Não|      Não|   Não|    Não / Não aplicável| Não / Não aplicável|Ignorado / Não ap...|                           0|                               0|             0|              Não / Não aplicável|    Não / Não aplicável|Não / Não aplicável|                              Sim|                              1200.0|              Não|                             0.0|       Não solicitou|\n",
      "|Rondônia| Norte|     2|  9|            5|1110011|110015970|Pessoa moradora|          Urbana|         95808| Cônjuge ou compan...|           53|masculino|   Preta|Fundamental incom...|   Não informado|                 Não informado / N...|                      Não informado|                    Não informado|            Não informado|          Não informado|                           Sim|                        Sim|                   Sim|                            Não |                                      Sim| Não | Não |        Não |                Não |      Não |     Não |  Não |                 Não |  Não |     Não |                Não |        Não |    Não |          Ficou em casa e s...|               Ignorado / Não ap...|Ignorado / Não ap...|    Ignorado / Não ap...|Ignorado / Não ap...|Ignorado / Não ap...|         Ignorado / Não ap...|                   Ignorado / Não ap...|Ignorado / Não ap...|    Ignorado / Não ap...|Ignorado / Não ap...|Ignorado / Não ap...|                             Ignorado / Não ap...|                    Ignorado / Não ap...|              Ignorado / Não ap...| Ignorado / Não ap...|     Ignorado / Não ap...|           Não |                      Não |Ignorado|Ignorado / Não ap...|          Ignorado| Ignorado / Não ap...|Ignorado / Não ap...|  Ignorado / Não ap...|     Não|        Não|                                  Não|            Não|      Não|   Não|                    Sim| Não / Não aplicável|Ignorado / Não ap...|                          40|                              40|          1600|              Não / Não aplicável|                    Sim|Não / Não aplicável|                              Sim|                              1200.0|              Não|                             0.0|       Não solicitou|\n",
      "|Rondônia| Norte|     2|  9|            5|1110011|110015970|Pessoa moradora|          Urbana|        139056| Filho(a) do respo...|           17| feminino|  Branca|    Médio incompleto|             Não|                 Não informado / N...|                      Não informado|                    Não informado|            Não informado|          Não informado|                           Sim|                        Sim|                   Sim|                            Não |                                      Sim| Não | Não |        Não |                Não |      Não |     Não |  Não |                 Não |  Não |     Não |                Não |        Não |    Não |          Reduziu o contato...|               Ignorado / Não ap...|Ignorado / Não ap...|    Ignorado / Não ap...|Ignorado / Não ap...|Ignorado / Não ap...|         Ignorado / Não ap...|                   Ignorado / Não ap...|Ignorado / Não ap...|    Ignorado / Não ap...|Ignorado / Não ap...|Ignorado / Não ap...|                             Ignorado / Não ap...|                    Ignorado / Não ap...|              Ignorado / Não ap...| Ignorado / Não ap...|     Ignorado / Não ap...|           Não |                      Não |Ignorado|Ignorado / Não ap...|          Ignorado| Ignorado / Não ap...|Ignorado / Não ap...|  Ignorado / Não ap...|     Não|        Não|                                  Não|            Não|      Não|   Não|    Não / Não aplicável| Não / Não aplicável|Ignorado / Não ap...|                           0|                               0|             0|              Não / Não aplicável|    Não / Não aplicável|Não / Não aplicável|                              Sim|                              1200.0|              Não|                             0.0|       Não solicitou|\n",
      "+--------+------+------+---+-------------+-------+---------+---------------+----------------+--------------+---------------------+-------------+---------+--------+--------------------+----------------+-------------------------------------+-----------------------------------+---------------------------------+-------------------------+-----------------------+------------------------------+---------------------------+----------------------+--------------------------------+-----------------------------------------+-----+-----+------------+--------------------+----------+---------+------+---------------------+------+---------+--------------------+------------+--------+------------------------------+-----------------------------------+--------------------+------------------------+--------------------+--------------------+-----------------------------+---------------------------------------+--------------------+------------------------+--------------------+--------------------+-------------------------------------------------+----------------------------------------+----------------------------------+---------------------+-------------------------+---------------+--------------------------+--------+--------------------+------------------+---------------------+--------------------+----------------------+--------+-----------+-------------------------------------+---------------+---------+------+-----------------------+--------------------+--------------------+----------------------------+--------------------------------+--------------+---------------------------------+-----------------------+-------------------+---------------------------------+------------------------------------+-----------------+--------------------------------+--------------------+\n",
      "only showing top 20 rows\n",
      "\n"
     ]
    }
   ],
   "source": [
    "# make regiao 2nd col\n",
    "df = df.select('uf', 'regiao', *[column for column in df.columns if column != 'uf' and column != 'regiao'])\n",
    "\n",
    "# check\n",
    "df.show()"
   ]
  },
  {
   "cell_type": "code",
   "execution_count": 13,
   "metadata": {},
   "outputs": [
    {
     "name": "stdout",
     "output_type": "stream",
     "text": [
      "+-------+---------+------------+------------------+------------------+------------------+-----------------+--------------------+-------------------+----------------+-----------------+---------------------+-----------------+---------+--------+--------------------+----------------+-------------------------------------+-----------------------------------+---------------------------------+-------------------------+-----------------------+------------------------------+---------------------------+----------------------+--------------------------------+-----------------------------------------+-------------------+-------------------+-------------------+--------------------+-------------------+-------------------+-------------------+---------------------+-------------------+-------------------+--------------------+-------------------+-------------------+------------------------------+-----------------------------------+--------------------+------------------------+--------------------+--------------------+-----------------------------+---------------------------------------+--------------------+------------------------+--------------------+--------------------+-------------------------------------------------+----------------------------------------+----------------------------------+---------------------+-------------------------+---------------+--------------------------+--------+--------------------+------------------+---------------------+-------------------+----------------------+--------------------+--------------------+-------------------------------------+--------------------+--------------------+--------------------+-----------------------+--------------------+--------------------+----------------------------+--------------------------------+------------------+---------------------------------+-----------------------+-------------------+---------------------------------+------------------------------------+-----------------+--------------------------------+--------------------+\n",
      "|summary|       uf|      regiao|            semana|               mes|     no_entrevista|          estrato|                 upa|        respondente|status_domicilio|   proj_populacao|condicao_no_domicilio|    idade_morador|     sexo|cor_raca|        escolaridade|frequenta_escola|atividades_escolares_realizar_em_casa|dias_dedicados_atividades_escolares|tempo_diario_atividades_escolares|ensino_publico_ou_privado|tendo_aulas_presenciais|domicilio_tem_sabao_detergente|domicilio_tem_alcool_70mais|domicilio_tem_mascaras|domicilio_tem_luvas_descartaveis|domicilio_tem_agua_sanitaria_desinfetante|              febre|              tosse|       dor_garganta|dificuldade_respirar|         dor_cabeca|          dor_peito|             nausea|nariz_entupido_coriza|             fadiga|          dor_olhos|perda_olfato_paladar|       dor_muscular|           diarreia|como_restringiu_contato_fisico|compareceu_estabelecimento_de_saude|       ficou_em_casa|ligou_profissional_saude|         automedicou|   prescricao_medica|visita_profissional_saude_sus|visita_de_profissional_saude_particular|   outra_providencia|unidade_basica_saude_sus|  pronto_socorro_sus|        hospital_sus|ambulatorio_consultorio_privado_ou_forcas_armadas|pronto_socorro_privado_ou_forcas_armadas|hospital_privado_ou_forcas_armadas|internado_um_dia_mais|sedado_entubado_ventilado|tem_plano_saude|realizou_teste_coronavirus|cotonete|  resultado_cotonete|coleta_sangue_dedo|resultado_sangue_dedo|coleta_sanque_braco|resultado_sangue_braco|            diabetes|         hipertensao|doenca_respiratoria_cronica_ou_pulmao|     doenca_cardiaca|           depressao|              cancer|trabalhou_uma_hora_mais|afastamento_trabalho|  motivo_afastamento|horas_semana_trabalho_normal|horas_semana_trabalho_realizadas|    valor_dinheiro|contrato_trabalho_estava_suspenso|trabalho_no_mesmo_local|    trabalho_remoto|auxilios_emergenciais_coronavirus|valor_recebido_auxilios_emergenciais|seguro_desemprego|valor_recebido_seguro_desemprego|solicitou_emprestimo|\n",
      "+-------+---------+------------+------------------+------------------+------------------+-----------------+--------------------+-------------------+----------------+-----------------+---------------------+-----------------+---------+--------+--------------------+----------------+-------------------------------------+-----------------------------------+---------------------------------+-------------------------+-----------------------+------------------------------+---------------------------+----------------------+--------------------------------+-----------------------------------------+-------------------+-------------------+-------------------+--------------------+-------------------+-------------------+-------------------+---------------------+-------------------+-------------------+--------------------+-------------------+-------------------+------------------------------+-----------------------------------+--------------------+------------------------+--------------------+--------------------+-----------------------------+---------------------------------------+--------------------+------------------------+--------------------+--------------------+-------------------------------------------------+----------------------------------------+----------------------------------+---------------------+-------------------------+---------------+--------------------------+--------+--------------------+------------------+---------------------+-------------------+----------------------+--------------------+--------------------+-------------------------------------+--------------------+--------------------+--------------------+-----------------------+--------------------+--------------------+----------------------------+--------------------------------+------------------+---------------------------------+-----------------------+-------------------+---------------------------------+------------------------------------+-----------------+--------------------------------+--------------------+\n",
      "|  count|  1149197|     1149197|           1149197|           1149197|           1149197|          1149197|             1149197|            1149197|         1149197|          1149197|              1149197|          1149197|  1149197| 1149197|             1149197|         1149197|                              1149197|                            1149197|                          1149197|                  1149197|                1149197|                       1149197|                    1149197|               1149197|                         1149197|                                  1149197|            1149197|            1149197|            1149197|             1149197|            1149197|            1149197|            1149197|              1149197|            1149197|            1149197|             1149197|            1149197|            1149197|                       1149197|                            1149197|             1149197|                 1149197|             1149197|             1149197|                      1149197|                                1149197|             1149197|                 1149197|             1149197|             1149197|                                          1149197|                                 1149197|                           1149197|              1149197|                  1149197|        1149197|                   1149197| 1149197|             1149197|           1149197|              1149197|            1149197|               1149197|             1149197|             1149197|                              1149197|             1149197|             1149197|             1149197|                1149197|             1149197|             1149197|                     1149197|                         1149197|           1149197|                          1149197|                1149197|            1149197|                          1149197|                             1149197|          1149197|                         1149197|             1149197|\n",
      "|   mean|     NULL|        NULL| 2.502237649419551| 9.994900787245355| 5.994900787245355|3199046.851049907|  3.16216860422723E8|               NULL|            NULL|799865.8401866695|                 NULL|36.97701264448132|     NULL|    NULL|                NULL|            NULL|                                 NULL|                               NULL|                             NULL|                     NULL|                   NULL|                          NULL|                       NULL|                  NULL|                            NULL|                                     NULL|               NULL|               NULL|               NULL|                NULL|               NULL|               NULL|               NULL|                 NULL|               NULL|               NULL|                NULL|               NULL|               NULL|                          NULL|                               NULL|                NULL|                    NULL|                NULL|                NULL|                         NULL|                                   NULL|                NULL|                    NULL|                NULL|                NULL|                                             NULL|                                    NULL|                              NULL|                 NULL|                     NULL|           NULL|                      NULL|    NULL|                NULL|              NULL|                 NULL|               NULL|                  NULL|                NULL|                NULL|                                 NULL|                NULL|                NULL|                NULL|                   NULL|                NULL|                NULL|          15.066659589261024|              13.362184203404638| 818.1101177604884|                             NULL|                   NULL|               NULL|                             NULL|                   372.8883350722287|             NULL|              21.643109928062813|                NULL|\n",
      "| stddev|     NULL|        NULL|1.1142897038359199|0.8178678113930633|0.8178678113930657|1085212.883288112|1.0849679486580838E8|               NULL|            NULL|800280.7065498092|                 NULL|21.84528773953524|     NULL|    NULL|                NULL|            NULL|                                 NULL|                               NULL|                             NULL|                     NULL|                   NULL|                          NULL|                       NULL|                  NULL|                            NULL|                                     NULL|               NULL|               NULL|               NULL|                NULL|               NULL|               NULL|               NULL|                 NULL|               NULL|               NULL|                NULL|               NULL|               NULL|                          NULL|                               NULL|                NULL|                    NULL|                NULL|                NULL|                         NULL|                                   NULL|                NULL|                    NULL|                NULL|                NULL|                                             NULL|                                    NULL|                              NULL|                 NULL|                     NULL|           NULL|                      NULL|    NULL|                NULL|              NULL|                 NULL|               NULL|                  NULL|                NULL|                NULL|                                 NULL|                NULL|                NULL|                NULL|                   NULL|                NULL|                NULL|           20.42772385608054|              19.494420392367964|2078.0397116548324|                             NULL|                   NULL|               NULL|                             NULL|                   500.7988714073599|             NULL|              179.33272763181137|                NULL|\n",
      "|    min|     Acre|Centro-Oeste|                 1|                 9|                 5|          1110011|           110000016|           Ignorado|           Rural|             6930| Agregado(a) - Não...|                0| feminino| Amarela|Fundamental completa|             Não|                                  Não|                              1 dia|             5 horas ou mais /...|            Não informado|          Não informado|                          Não |                       Não |                  Não |                            Não |                                     Não |Ignorado / Não sabe|Ignorado / Não sabe|Ignorado / Não sabe| Ignorado / Não sabe|Ignorado / Não sabe|Ignorado / Não sabe|Ignorado / Não sabe|  Ignorado / Não sabe|Ignorado / Não sabe|Ignorado / Não sabe| Ignorado / Não sabe|Ignorado / Não sabe|Ignorado / Não sabe|          Ficou em casa e s...|               Ignorado / Não ap...|Ignorado / Não ap...|    Ignorado / Não ap...|Ignorado / Não ap...|Ignorado / Não ap...|         Ignorado / Não ap...|                   Ignorado / Não ap...|Ignorado / Não ap...|    Ignorado / Não ap...|Ignorado / Não ap...|Ignorado / Não ap...|                             Ignorado / Não ap...|                    Ignorado / Não ap...|              Ignorado / Não ap...| Ignorado / Não ap...|     Ignorado / Não ap...|       Ignorado|                  Ignorado|Ignorado|Ainda não recebeu...|          Ignorado| Ainda não recebeu...|           Ignorado|  Ainda não recebeu...|Ignorado / Não ap...|Ignorado / Não ap...|                 Ignorado / Não ap...|Ignorado / Não ap...|Ignorado / Não ap...|Ignorado / Não ap...|    Não / Não aplicável| Não / Não aplicável|Afastamento do pr...|                           0|                               0|                 0|              Não / Não aplicável|    Não / Não aplicável|Não / Não aplicável|                              Não|                                 0.0|              Não|                             0.0|       Não solicitou|\n",
      "|    max|Tocantins|         Sul|                 4|                11|                 7|          5310220|           530051067|Pessoa não moradora|          Urbana|          3829169|             Sogro(a)|              111|masculino|   Preta| Superior incompleto|             Sim|                 Sim, mas não real...|                      Não informado|                    Não informado|                  Pública|       Sim, normalmente|                           Sim|                        Sim|                   Sim|                             Sim|                                      Sim|                Sim|                Sim|                Sim|                 Sim|                Sim|                Sim|                Sim|                  Sim|                Sim|                Sim|                 Sim|                Sim|                Sim|          Reduziu o contato...|                                Sim|                 Sim|                     Sim|                 Sim|                 Sim|                          Sim|                                    Sim|                 Sim|                     Sim|                 Sim|                 Sim|                                              Sim|                                     Sim|                               Sim|                  Sim|                      Sim|            Sim|                       Sim|     Sim|            Positivo|               Sim|             Positivo|                Sim|              Positivo|                 Sim|                 Sim|                                  Sim|                 Sim|                 Sim|                 Sim|                    Sim|                 Sim|Outro tipo de lic...|                         120|                             120|            250000|                              Sim|                    Sim|                Sim|                              Sim|                             10000.0|              Sim|                          9999.0|Sim, mas nenhum m...|\n",
      "+-------+---------+------------+------------------+------------------+------------------+-----------------+--------------------+-------------------+----------------+-----------------+---------------------+-----------------+---------+--------+--------------------+----------------+-------------------------------------+-----------------------------------+---------------------------------+-------------------------+-----------------------+------------------------------+---------------------------+----------------------+--------------------------------+-----------------------------------------+-------------------+-------------------+-------------------+--------------------+-------------------+-------------------+-------------------+---------------------+-------------------+-------------------+--------------------+-------------------+-------------------+------------------------------+-----------------------------------+--------------------+------------------------+--------------------+--------------------+-----------------------------+---------------------------------------+--------------------+------------------------+--------------------+--------------------+-------------------------------------------------+----------------------------------------+----------------------------------+---------------------+-------------------------+---------------+--------------------------+--------+--------------------+------------------+---------------------+-------------------+----------------------+--------------------+--------------------+-------------------------------------+--------------------+--------------------+--------------------+-----------------------+--------------------+--------------------+----------------------------+--------------------------------+------------------+---------------------------------+-----------------------+-------------------+---------------------------------+------------------------------------+-----------------+--------------------------------+--------------------+\n",
      "\n"
     ]
    }
   ],
   "source": [
    "df.describe().show()"
   ]
  },
  {
   "cell_type": "code",
   "execution_count": 14,
   "metadata": {},
   "outputs": [
    {
     "name": "stdout",
     "output_type": "stream",
     "text": [
      "+----------------+---+------------------------------+------+\n",
      "|status_domicilio|mes|como_restringiu_contato_fisico| count|\n",
      "+----------------+---+------------------------------+------+\n",
      "|           Rural|  9|          Ficou em casa e s...| 41723|\n",
      "|           Rural|  9|          Ficou rigorosamen...| 17481|\n",
      "|           Rural|  9|                      Ignorado|   308|\n",
      "|           Rural|  9|          Não fez restrição...|  2658|\n",
      "|           Rural|  9|          Reduziu o contato...| 30741|\n",
      "|           Rural| 10|          Ficou em casa e s...| 38955|\n",
      "|           Rural| 10|          Ficou rigorosamen...| 13286|\n",
      "|           Rural| 10|                      Ignorado|   336|\n",
      "|           Rural| 10|          Não fez restrição...|  4003|\n",
      "|           Rural| 10|          Reduziu o contato...| 34215|\n",
      "|           Rural| 11|          Ficou em casa e s...| 38183|\n",
      "|           Rural| 11|          Ficou rigorosamen...| 11782|\n",
      "|           Rural| 11|                      Ignorado|   254|\n",
      "|           Rural| 11|          Não fez restrição...|  4445|\n",
      "|           Rural| 11|          Reduziu o contato...| 35627|\n",
      "|          Urbana|  9|          Ficou em casa e s...|119721|\n",
      "|          Urbana|  9|          Ficou rigorosamen...| 46382|\n",
      "|          Urbana|  9|                      Ignorado|  1618|\n",
      "|          Urbana|  9|          Não fez restrição...|  8533|\n",
      "|          Urbana|  9|          Reduziu o contato...|118133|\n",
      "+----------------+---+------------------------------+------+\n",
      "only showing top 20 rows\n",
      "\n"
     ]
    }
   ],
   "source": [
    "# população urbana saiu mais enquanto rural ficou mais em casa?\n",
    "\n",
    "# group by status_domicilio, mes => count each differente value in como_restringiu_contato_fisico\n",
    "df.createOrReplaceTempView('como_restringiu_contato_fisico')\n",
    "\n",
    "contato_fisico_status_domicilio = spark.sql('''\n",
    "    SELECT status_domicilio, mes, como_restringiu_contato_fisico, count(*) as count\n",
    "    FROM como_restringiu_contato_fisico\n",
    "    GROUP BY status_domicilio, mes, como_restringiu_contato_fisico\n",
    "    ORDER BY status_domicilio, mes, como_restringiu_contato_fisico\n",
    "''')\n",
    "\n",
    "# show the result\n",
    "contato_fisico_status_domicilio.show()\n",
    "# aviso: tarefa não pôde ser realizada em memória, foi levada ao disco\n",
    "# https://stackoverflow.com/questions/46907447/meaning-of-apache-spark-warning-calling-spill-on-rowbasedkeyvaluebatch"
   ]
  },
  {
   "cell_type": "code",
   "execution_count": 15,
   "metadata": {},
   "outputs": [
    {
     "name": "stdout",
     "output_type": "stream",
     "text": [
      "+----------------+---+-----------------------------------+-----+\n",
      "|status_domicilio|mes|compareceu_estabelecimento_de_saude|count|\n",
      "+----------------+---+-----------------------------------+-----+\n",
      "|           Rural|  9|                                Não| 2977|\n",
      "|           Rural|  9|                                Sim|  766|\n",
      "|           Rural| 10|                                Não| 2323|\n",
      "|           Rural| 10|                                Sim|  688|\n",
      "|           Rural| 11|                                Não| 2233|\n",
      "|           Rural| 11|                                Sim|  624|\n",
      "|          Urbana|  9|                                Não| 9775|\n",
      "|          Urbana|  9|                                Sim| 3341|\n",
      "|          Urbana| 10|                                Não| 7970|\n",
      "|          Urbana| 10|                                Sim| 2972|\n",
      "|          Urbana| 11|                                Não| 7863|\n",
      "|          Urbana| 11|                                Sim| 3405|\n",
      "+----------------+---+-----------------------------------+-----+\n",
      "\n"
     ]
    }
   ],
   "source": [
    "# rural x urbana => compareceu_estabelecimento_de_saude\n",
    "df.createOrReplaceTempView('compareceu_estabelecimento_de_saude')\n",
    "\n",
    "compareceu_estabelecimento_saude = spark.sql('''\n",
    "    SELECT status_domicilio, mes, compareceu_estabelecimento_de_saude, count(*) as count\n",
    "    FROM compareceu_estabelecimento_de_saude\n",
    "    WHERE compareceu_estabelecimento_de_saude != 'Ignorado / Não aplicável'\n",
    "    GROUP BY status_domicilio, mes, compareceu_estabelecimento_de_saude\n",
    "    ORDER BY status_domicilio, mes, compareceu_estabelecimento_de_saude\n",
    "''')\n",
    "\n",
    "compareceu_estabelecimento_saude.show()"
   ]
  },
  {
   "cell_type": "code",
   "execution_count": 16,
   "metadata": {},
   "outputs": [
    {
     "name": "stdout",
     "output_type": "stream",
     "text": [
      "+--------+---+-----------------------------------+-----+\n",
      "|      uf|mes|compareceu_estabelecimento_de_saude|count|\n",
      "+--------+---+-----------------------------------+-----+\n",
      "|    Acre|  9|                                Não|  178|\n",
      "|    Acre|  9|                                Sim|   46|\n",
      "|    Acre| 10|                                Não|  161|\n",
      "|    Acre| 10|                                Sim|   45|\n",
      "|    Acre| 11|                                Não|  114|\n",
      "|    Acre| 11|                                Sim|   41|\n",
      "| Alagoas|  9|                                Não|  273|\n",
      "| Alagoas|  9|                                Sim|  106|\n",
      "| Alagoas| 10|                                Não|  290|\n",
      "| Alagoas| 10|                                Sim|   71|\n",
      "| Alagoas| 11|                                Não|  214|\n",
      "| Alagoas| 11|                                Sim|   69|\n",
      "|   Amapá|  9|                                Não|  128|\n",
      "|   Amapá|  9|                                Sim|   40|\n",
      "|   Amapá| 10|                                Não|   82|\n",
      "|   Amapá| 10|                                Sim|   16|\n",
      "|   Amapá| 11|                                Não|  109|\n",
      "|   Amapá| 11|                                Sim|   48|\n",
      "|Amazonas|  9|                                Não|  324|\n",
      "|Amazonas|  9|                                Sim|  124|\n",
      "+--------+---+-----------------------------------+-----+\n",
      "only showing top 20 rows\n",
      "\n"
     ]
    }
   ],
   "source": [
    "# uf => compareceu_estabelecimento_de_saude\n",
    "df.createOrReplaceTempView('compareceu_estabelecimento_de_saude_uf')\n",
    "\n",
    "compareceu_estabelecimento_saude_uf = spark.sql('''\n",
    "    SELECT uf, mes, compareceu_estabelecimento_de_saude, count(*) as count\n",
    "    FROM compareceu_estabelecimento_de_saude\n",
    "    WHERE compareceu_estabelecimento_de_saude != 'Ignorado / Não aplicável'\n",
    "    GROUP BY uf, mes, compareceu_estabelecimento_de_saude\n",
    "    ORDER BY uf, mes, compareceu_estabelecimento_de_saude\n",
    "''')\n",
    "\n",
    "compareceu_estabelecimento_saude_uf.show()"
   ]
  },
  {
   "cell_type": "code",
   "execution_count": 17,
   "metadata": {},
   "outputs": [
    {
     "name": "stdout",
     "output_type": "stream",
     "text": [
      "+-------+----------------+---+-------------+-----+\n",
      "|     uf|status_domicilio|mes|ficou_em_casa|count|\n",
      "+-------+----------------+---+-------------+-----+\n",
      "|   Acre|           Rural|  9|          Não|   11|\n",
      "|   Acre|           Rural|  9|          Sim|   32|\n",
      "|   Acre|           Rural| 10|          Não|    3|\n",
      "|   Acre|           Rural| 10|          Sim|   20|\n",
      "|   Acre|           Rural| 11|          Sim|   19|\n",
      "|   Acre|          Urbana|  9|          Não|   11|\n",
      "|   Acre|          Urbana|  9|          Sim|  124|\n",
      "|   Acre|          Urbana| 10|          Não|    6|\n",
      "|   Acre|          Urbana| 10|          Sim|  132|\n",
      "|   Acre|          Urbana| 11|          Não|    6|\n",
      "|   Acre|          Urbana| 11|          Sim|   87|\n",
      "|Alagoas|           Rural|  9|          Não|   14|\n",
      "|Alagoas|           Rural|  9|          Sim|   79|\n",
      "|Alagoas|           Rural| 10|          Não|    7|\n",
      "|Alagoas|           Rural| 10|          Sim|   72|\n",
      "|Alagoas|           Rural| 11|          Não|    5|\n",
      "|Alagoas|           Rural| 11|          Sim|   67|\n",
      "|Alagoas|          Urbana|  9|          Não|   26|\n",
      "|Alagoas|          Urbana|  9|          Sim|  152|\n",
      "|Alagoas|          Urbana| 10|          Não|   23|\n",
      "+-------+----------------+---+-------------+-----+\n",
      "only showing top 20 rows\n",
      "\n"
     ]
    }
   ],
   "source": [
    "# quantos respondentes ficaram em casa devido à sintomas na última semana?\n",
    "df.createOrReplaceTempView('ficaram_em_casa_devido_a_sintomas')\n",
    "\n",
    "casa_devido_sintomas = spark.sql('''\n",
    "    SELECT uf, status_domicilio, mes, ficou_em_casa, count(*) as count\n",
    "    FROM ficaram_em_casa_devido_a_sintomas\n",
    "    WHERE ficou_em_casa != 'Ignorado / Não aplicável'\n",
    "    GROUP BY uf, status_domicilio, mes, ficou_em_casa\n",
    "    ORDER BY uf, status_domicilio, mes, ficou_em_casa\n",
    "''')\n",
    "\n",
    "casa_devido_sintomas.show()"
   ]
  },
  {
   "cell_type": "code",
   "execution_count": 18,
   "metadata": {},
   "outputs": [
    {
     "name": "stdout",
     "output_type": "stream",
     "text": [
      "+--------+---+-------------+-----+-------+\n",
      "|      uf|mes|ficou_em_casa|count|percent|\n",
      "+--------+---+-------------+-----+-------+\n",
      "|    Acre|  9|          Não|   22|  12.36|\n",
      "|    Acre|  9|          Sim|  156|  87.64|\n",
      "|    Acre| 10|          Não|    9|   5.59|\n",
      "|    Acre| 10|          Sim|  152|  94.41|\n",
      "|    Acre| 11|          Não|    6|   5.36|\n",
      "|    Acre| 11|          Sim|  106|  94.64|\n",
      "| Alagoas|  9|          Não|   40|  14.76|\n",
      "| Alagoas|  9|          Sim|  231|  85.24|\n",
      "| Alagoas| 10|          Não|   30|  10.34|\n",
      "| Alagoas| 10|          Sim|  260|  89.66|\n",
      "| Alagoas| 11|          Não|   21|   9.86|\n",
      "| Alagoas| 11|          Sim|  192|  90.14|\n",
      "|   Amapá|  9|          Não|   12|   9.45|\n",
      "|   Amapá|  9|          Sim|  115|  90.55|\n",
      "|   Amapá| 10|          Não|   15|  18.29|\n",
      "|   Amapá| 10|          Sim|   67|  81.71|\n",
      "|   Amapá| 11|          Não|    7|   6.42|\n",
      "|   Amapá| 11|          Sim|  102|  93.58|\n",
      "|Amazonas|  9|          Não|   36|  11.11|\n",
      "|Amazonas|  9|          Sim|  288|  88.89|\n",
      "+--------+---+-------------+-----+-------+\n",
      "only showing top 20 rows\n",
      "\n"
     ]
    }
   ],
   "source": [
    "# percent of people who stayed at home due to symptoms for uf\n",
    "df.createOrReplaceTempView('ficaram_em_casa_devido_a_sintomas_uf')\n",
    "\n",
    "casa_devido_sintomas_uf = spark.sql('''\n",
    "    SELECT uf, mes, ficou_em_casa, count(*) as count,\n",
    "        ROUND((count(*) / SUM(count(*)) OVER (PARTITION BY uf, mes)) * 100, 2) as percent\n",
    "    FROM ficaram_em_casa_devido_a_sintomas_uf\n",
    "    WHERE ficou_em_casa != 'Ignorado / Não aplicável'\n",
    "    GROUP BY uf, mes, ficou_em_casa\n",
    "    ORDER BY uf, mes, ficou_em_casa\n",
    "''')\n",
    "\n",
    "casa_devido_sintomas_uf.show()"
   ]
  },
  {
   "cell_type": "code",
   "execution_count": 19,
   "metadata": {},
   "outputs": [
    {
     "name": "stdout",
     "output_type": "stream",
     "text": [
      "+------------+---+--------------------+---------------------+----------------------+---------------+\n",
      "|      regiao|mes|  resultado_cotonete|resultado_sangue_dedo|resultado_sangue_braco|total_respostas|\n",
      "+------------+---+--------------------+---------------------+----------------------+---------------+\n",
      "|Centro-Oeste|  9|Ainda não recebeu...| Ainda não recebeu...|  Ainda não recebeu...|              2|\n",
      "|Centro-Oeste|  9|Ainda não recebeu...| Ainda não recebeu...|  Ignorado / Não ap...|              1|\n",
      "|Centro-Oeste|  9|Ainda não recebeu...| Ignorado / Não ap...|  Ainda não recebeu...|              1|\n",
      "|Centro-Oeste|  9|Ainda não recebeu...| Ignorado / Não ap...|  Ignorado / Não ap...|             30|\n",
      "|Centro-Oeste|  9|Ainda não recebeu...| Ignorado / Não ap...|              Negativo|              1|\n",
      "|Centro-Oeste|  9|Ainda não recebeu...|             Negativo|  Ignorado / Não ap...|              1|\n",
      "|Centro-Oeste|  9|Ainda não recebeu...|             Negativo|              Negativo|              1|\n",
      "|Centro-Oeste|  9|Ainda não recebeu...|             Positivo|  Ignorado / Não ap...|              1|\n",
      "|Centro-Oeste|  9|Ignorado / Não ap...| Ainda não recebeu...|  Ignorado / Não ap...|              5|\n",
      "|Centro-Oeste|  9|Ignorado / Não ap...| Ignorado / Não ap...|  Ainda não recebeu...|             16|\n",
      "|Centro-Oeste|  9|Ignorado / Não ap...| Ignorado / Não ap...|          Inconclusivo|              4|\n",
      "|Centro-Oeste|  9|Ignorado / Não ap...| Ignorado / Não ap...|              Negativo|            807|\n",
      "|Centro-Oeste|  9|Ignorado / Não ap...| Ignorado / Não ap...|              Positivo|            316|\n",
      "|Centro-Oeste|  9|Ignorado / Não ap...|         Inconclusivo|  Ignorado / Não ap...|              7|\n",
      "|Centro-Oeste|  9|Ignorado / Não ap...|         Inconclusivo|              Negativo|              1|\n",
      "|Centro-Oeste|  9|Ignorado / Não ap...|             Negativo|  Ignorado / Não ap...|           1396|\n",
      "|Centro-Oeste|  9|Ignorado / Não ap...|             Negativo|              Negativo|             99|\n",
      "|Centro-Oeste|  9|Ignorado / Não ap...|             Negativo|              Positivo|              9|\n",
      "|Centro-Oeste|  9|Ignorado / Não ap...|             Positivo|  Ainda não recebeu...|              2|\n",
      "|Centro-Oeste|  9|Ignorado / Não ap...|             Positivo|  Ignorado / Não ap...|            196|\n",
      "+------------+---+--------------------+---------------------+----------------------+---------------+\n",
      "only showing top 20 rows\n",
      "\n"
     ]
    }
   ],
   "source": [
    "# resultados de testes positivos por região\n",
    "# create a temporary view\n",
    "df.createOrReplaceTempView('testagem_regiao')\n",
    "\n",
    "# group by regiao, mes => count each differente value in testagem\n",
    "testagem_regiao = spark.sql('''\n",
    "    SELECT regiao, mes, resultado_cotonete, resultado_sangue_dedo, resultado_sangue_braco,\n",
    "        count(*) as total_respostas\n",
    "    FROM testagem_regiao\n",
    "    WHERE resultado_cotonete != 'Ignorado / Não aplicável' OR\n",
    "        resultado_sangue_dedo != 'Ignorado / Não aplicável' OR\n",
    "        resultado_sangue_braco != 'Ignorado / Não aplicável'\n",
    "    GROUP BY regiao, mes, resultado_cotonete, resultado_sangue_dedo, resultado_sangue_braco\n",
    "    ORDER BY regiao, mes, resultado_cotonete, resultado_sangue_dedo, resultado_sangue_braco\n",
    "''')\n",
    "\n",
    "testagem_regiao.show()"
   ]
  },
  {
   "cell_type": "code",
   "execution_count": 20,
   "metadata": {},
   "outputs": [
    {
     "name": "stdout",
     "output_type": "stream",
     "text": [
      "+------------+---+--------------------+---------------------+----------------------+---------------+---------+\n",
      "|      regiao|mes|  resultado_cotonete|resultado_sangue_dedo|resultado_sangue_braco|total_respostas|positivos|\n",
      "+------------+---+--------------------+---------------------+----------------------+---------------+---------+\n",
      "|Centro-Oeste|  9|Ainda não recebeu...| Ainda não recebeu...|  Ainda não recebeu...|              2|        0|\n",
      "|Centro-Oeste|  9|Ainda não recebeu...| Ainda não recebeu...|  Ignorado / Não ap...|              1|        0|\n",
      "|Centro-Oeste|  9|Ainda não recebeu...| Ignorado / Não ap...|  Ainda não recebeu...|              1|        0|\n",
      "|Centro-Oeste|  9|Ainda não recebeu...| Ignorado / Não ap...|  Ignorado / Não ap...|             30|        0|\n",
      "|Centro-Oeste|  9|Ainda não recebeu...| Ignorado / Não ap...|              Negativo|              1|        0|\n",
      "|Centro-Oeste|  9|Ainda não recebeu...|             Negativo|  Ignorado / Não ap...|              1|        0|\n",
      "|Centro-Oeste|  9|Ainda não recebeu...|             Negativo|              Negativo|              1|        0|\n",
      "|Centro-Oeste|  9|Ainda não recebeu...|             Positivo|  Ignorado / Não ap...|              1|        1|\n",
      "|Centro-Oeste|  9|Ignorado / Não ap...| Ainda não recebeu...|  Ignorado / Não ap...|              5|        0|\n",
      "|Centro-Oeste|  9|Ignorado / Não ap...| Ignorado / Não ap...|  Ainda não recebeu...|             16|        0|\n",
      "|Centro-Oeste|  9|Ignorado / Não ap...| Ignorado / Não ap...|          Inconclusivo|              4|        0|\n",
      "|Centro-Oeste|  9|Ignorado / Não ap...| Ignorado / Não ap...|              Negativo|            807|        0|\n",
      "|Centro-Oeste|  9|Ignorado / Não ap...| Ignorado / Não ap...|              Positivo|            316|        1|\n",
      "|Centro-Oeste|  9|Ignorado / Não ap...|         Inconclusivo|  Ignorado / Não ap...|              7|        0|\n",
      "|Centro-Oeste|  9|Ignorado / Não ap...|         Inconclusivo|              Negativo|              1|        0|\n",
      "|Centro-Oeste|  9|Ignorado / Não ap...|             Negativo|  Ignorado / Não ap...|           1396|        0|\n",
      "|Centro-Oeste|  9|Ignorado / Não ap...|             Negativo|              Negativo|             99|        0|\n",
      "|Centro-Oeste|  9|Ignorado / Não ap...|             Negativo|              Positivo|              9|        1|\n",
      "|Centro-Oeste|  9|Ignorado / Não ap...|             Positivo|  Ainda não recebeu...|              2|        1|\n",
      "|Centro-Oeste|  9|Ignorado / Não ap...|             Positivo|  Ignorado / Não ap...|            196|        1|\n",
      "+------------+---+--------------------+---------------------+----------------------+---------------+---------+\n",
      "only showing top 20 rows\n",
      "\n"
     ]
    }
   ],
   "source": [
    "# new column for only cont of positivos\n",
    "testagem_regiao = testagem_regiao.withColumn('positivos', \n",
    "                                     F.when((col('resultado_cotonete') == 'Positivo') |\n",
    "                                            (col('resultado_sangue_dedo') == 'Positivo') |\n",
    "                                            (col('resultado_sangue_braco') == 'Positivo'), 1).otherwise(0))\n",
    "\n",
    "testagem_regiao.show()"
   ]
  },
  {
   "cell_type": "code",
   "execution_count": 21,
   "metadata": {},
   "outputs": [
    {
     "name": "stdout",
     "output_type": "stream",
     "text": [
      "+------------+---+---------------+--------------------+\n",
      "|      regiao|mes|total_positivos|percentual_positivos|\n",
      "+------------+---+---------------+--------------------+\n",
      "|Centro-Oeste|  9|             24|                0.42|\n",
      "|Centro-Oeste| 10|             22|                0.33|\n",
      "|Centro-Oeste| 11|             24|                0.32|\n",
      "|    Nordeste|  9|             26|                0.23|\n",
      "|    Nordeste| 10|             26|                0.21|\n",
      "|    Nordeste| 11|             29|                0.21|\n",
      "|       Norte|  9|             25|                0.48|\n",
      "|       Norte| 10|             29|                0.52|\n",
      "|       Norte| 11|             29|                0.48|\n",
      "|     Sudeste|  9|             25|                0.24|\n",
      "|     Sudeste| 10|             28|                0.23|\n",
      "|     Sudeste| 11|             28|                 0.2|\n",
      "|         Sul|  9|             20|                0.34|\n",
      "|         Sul| 10|             21|                0.31|\n",
      "|         Sul| 11|             21|                0.27|\n",
      "+------------+---+---------------+--------------------+\n",
      "\n"
     ]
    }
   ],
   "source": [
    "# positivos for regiao and month, calculate the percent\n",
    "testagem_regiao.createOrReplaceTempView('positivos_regiao')\n",
    "\n",
    "positivos_regiao = spark.sql('''\n",
    "    SELECT regiao, mes, sum(positivos) as total_positivos,\n",
    "        ROUND((sum(positivos) / SUM(total_respostas)) * 100, 2) as percentual_positivos\n",
    "    FROM positivos_regiao\n",
    "    GROUP BY regiao, mes\n",
    "    ORDER BY regiao, mes\n",
    "''')\n",
    "\n",
    "positivos_regiao.show()"
   ]
  },
  {
   "cell_type": "code",
   "execution_count": 22,
   "metadata": {},
   "outputs": [
    {
     "name": "stdout",
     "output_type": "stream",
     "text": [
      "+------------+---+---------------+--------------------+\n",
      "|      regiao|mes|total_positivos|percentual_positivos|\n",
      "+------------+---+---------------+--------------------+\n",
      "|       Norte| 10|             29|                0.52|\n",
      "|       Norte| 11|             29|                0.48|\n",
      "|       Norte|  9|             25|                0.48|\n",
      "|Centro-Oeste|  9|             24|                0.42|\n",
      "|         Sul|  9|             20|                0.34|\n",
      "+------------+---+---------------+--------------------+\n",
      "\n"
     ]
    }
   ],
   "source": [
    "# select 5 worst results for percent\n",
    "positivos_regiao.createOrReplaceTempView('piores_positivos_regiao')\n",
    "\n",
    "positivos_regiao_percent = spark.sql('''\n",
    "    SELECT regiao, mes, total_positivos, percentual_positivos\n",
    "    FROM piores_positivos_regiao\n",
    "    ORDER BY percentual_positivos DESC\n",
    "    LIMIT 5\n",
    "''')\n",
    "\n",
    "positivos_regiao_percent.show()"
   ]
  },
  {
   "cell_type": "code",
   "execution_count": 23,
   "metadata": {},
   "outputs": [
    {
     "name": "stdout",
     "output_type": "stream",
     "text": [
      "+----+---+--------------------+---------------------+----------------------+---------------+\n",
      "|  uf|mes|  resultado_cotonete|resultado_sangue_dedo|resultado_sangue_braco|total_respostas|\n",
      "+----+---+--------------------+---------------------+----------------------+---------------+\n",
      "|Acre|  9|Ainda não recebeu...| Ignorado / Não ap...|  Ainda não recebeu...|              1|\n",
      "|Acre|  9|Ainda não recebeu...| Ignorado / Não ap...|  Ignorado / Não ap...|              1|\n",
      "|Acre|  9|Ignorado / Não ap...| Ainda não recebeu...|  Ainda não recebeu...|              1|\n",
      "|Acre|  9|Ignorado / Não ap...| Ignorado / Não ap...|          Inconclusivo|              2|\n",
      "|Acre|  9|Ignorado / Não ap...| Ignorado / Não ap...|              Negativo|             58|\n",
      "|Acre|  9|Ignorado / Não ap...| Ignorado / Não ap...|              Positivo|             47|\n",
      "|Acre|  9|Ignorado / Não ap...|         Inconclusivo|  Ignorado / Não ap...|              2|\n",
      "|Acre|  9|Ignorado / Não ap...|         Inconclusivo|              Negativo|              1|\n",
      "|Acre|  9|Ignorado / Não ap...|         Inconclusivo|              Positivo|              1|\n",
      "|Acre|  9|Ignorado / Não ap...|             Negativo|  Ignorado / Não ap...|            117|\n",
      "|Acre|  9|Ignorado / Não ap...|             Negativo|              Negativo|             20|\n",
      "|Acre|  9|Ignorado / Não ap...|             Negativo|              Positivo|              1|\n",
      "|Acre|  9|Ignorado / Não ap...|             Positivo|  Ignorado / Não ap...|             61|\n",
      "|Acre|  9|Ignorado / Não ap...|             Positivo|              Positivo|              9|\n",
      "|Acre|  9|        Inconclusivo| Ignorado / Não ap...|  Ignorado / Não ap...|              2|\n",
      "|Acre|  9|        Inconclusivo|             Negativo|              Negativo|              1|\n",
      "|Acre|  9|        Inconclusivo|             Positivo|  Ignorado / Não ap...|              2|\n",
      "|Acre|  9|            Negativo| Ignorado / Não ap...|  Ignorado / Não ap...|             54|\n",
      "|Acre|  9|            Negativo| Ignorado / Não ap...|              Negativo|              9|\n",
      "|Acre|  9|            Negativo|             Negativo|  Ignorado / Não ap...|             10|\n",
      "+----+---+--------------------+---------------------+----------------------+---------------+\n",
      "only showing top 20 rows\n",
      "\n"
     ]
    }
   ],
   "source": [
    "# testagem Positivo, Inconclusivo, Negativo\n",
    "# create a temporary view\n",
    "df.createOrReplaceTempView('testagem_uf')\n",
    "\n",
    "# group by status_domicilio, mes => count each differente value in testagem\n",
    "testagem_uf = spark.sql('''\n",
    "    SELECT uf, mes, resultado_cotonete, resultado_sangue_dedo, resultado_sangue_braco,\n",
    "        count(*) as total_respostas\n",
    "    FROM testagem_uf\n",
    "    WHERE resultado_cotonete != 'Ignorado / Não aplicável' OR\n",
    "        resultado_sangue_dedo != 'Ignorado / Não aplicável' OR\n",
    "        resultado_sangue_braco != 'Ignorado / Não aplicável'\n",
    "    GROUP BY uf, mes, resultado_cotonete, resultado_sangue_dedo, resultado_sangue_braco\n",
    "    ORDER BY uf, mes, resultado_cotonete, resultado_sangue_dedo, resultado_sangue_braco\n",
    "''')\n",
    "\n",
    "testagem_uf.show()"
   ]
  },
  {
   "cell_type": "code",
   "execution_count": 24,
   "metadata": {},
   "outputs": [
    {
     "name": "stdout",
     "output_type": "stream",
     "text": [
      "+----+---+--------------------+---------------------+----------------------+---------------+---------+\n",
      "|  uf|mes|  resultado_cotonete|resultado_sangue_dedo|resultado_sangue_braco|total_respostas|positivos|\n",
      "+----+---+--------------------+---------------------+----------------------+---------------+---------+\n",
      "|Acre|  9|Ainda não recebeu...| Ignorado / Não ap...|  Ainda não recebeu...|              1|        0|\n",
      "|Acre|  9|Ainda não recebeu...| Ignorado / Não ap...|  Ignorado / Não ap...|              1|        0|\n",
      "|Acre|  9|Ignorado / Não ap...| Ainda não recebeu...|  Ainda não recebeu...|              1|        0|\n",
      "|Acre|  9|Ignorado / Não ap...| Ignorado / Não ap...|          Inconclusivo|              2|        0|\n",
      "|Acre|  9|Ignorado / Não ap...| Ignorado / Não ap...|              Negativo|             58|        0|\n",
      "|Acre|  9|Ignorado / Não ap...| Ignorado / Não ap...|              Positivo|             47|        1|\n",
      "|Acre|  9|Ignorado / Não ap...|         Inconclusivo|  Ignorado / Não ap...|              2|        0|\n",
      "|Acre|  9|Ignorado / Não ap...|         Inconclusivo|              Negativo|              1|        0|\n",
      "|Acre|  9|Ignorado / Não ap...|         Inconclusivo|              Positivo|              1|        1|\n",
      "|Acre|  9|Ignorado / Não ap...|             Negativo|  Ignorado / Não ap...|            117|        0|\n",
      "|Acre|  9|Ignorado / Não ap...|             Negativo|              Negativo|             20|        0|\n",
      "|Acre|  9|Ignorado / Não ap...|             Negativo|              Positivo|              1|        1|\n",
      "|Acre|  9|Ignorado / Não ap...|             Positivo|  Ignorado / Não ap...|             61|        1|\n",
      "|Acre|  9|Ignorado / Não ap...|             Positivo|              Positivo|              9|        1|\n",
      "|Acre|  9|        Inconclusivo| Ignorado / Não ap...|  Ignorado / Não ap...|              2|        0|\n",
      "|Acre|  9|        Inconclusivo|             Negativo|              Negativo|              1|        0|\n",
      "|Acre|  9|        Inconclusivo|             Positivo|  Ignorado / Não ap...|              2|        1|\n",
      "|Acre|  9|            Negativo| Ignorado / Não ap...|  Ignorado / Não ap...|             54|        0|\n",
      "|Acre|  9|            Negativo| Ignorado / Não ap...|              Negativo|              9|        0|\n",
      "|Acre|  9|            Negativo|             Negativo|  Ignorado / Não ap...|             10|        0|\n",
      "+----+---+--------------------+---------------------+----------------------+---------------+---------+\n",
      "only showing top 20 rows\n",
      "\n"
     ]
    }
   ],
   "source": [
    "# new column for only cont of positivos\n",
    "testagem_uf = testagem_uf.withColumn('positivos', \n",
    "                                     F.when((col('resultado_cotonete') == 'Positivo') |\n",
    "                                            (col('resultado_sangue_dedo') == 'Positivo') |\n",
    "                                            (col('resultado_sangue_braco') == 'Positivo'), 1).otherwise(0))\n",
    "\n",
    "testagem_uf.show()"
   ]
  },
  {
   "cell_type": "code",
   "execution_count": 25,
   "metadata": {},
   "outputs": [
    {
     "name": "stdout",
     "output_type": "stream",
     "text": [
      "+----------------+---+---------------+--------------------+\n",
      "|              uf|mes|total_positivos|percentual_positivos|\n",
      "+----------------+---+---------------+--------------------+\n",
      "|            Acre|  9|             13|                2.63|\n",
      "|            Acre| 10|             13|                2.31|\n",
      "|            Acre| 11|             14|                2.34|\n",
      "|         Alagoas|  9|             14|                1.39|\n",
      "|         Alagoas| 10|             14|                1.37|\n",
      "|         Alagoas| 11|             17|                1.56|\n",
      "|           Amapá|  9|              8|                1.83|\n",
      "|           Amapá| 10|             10|                2.65|\n",
      "|           Amapá| 11|             10|                2.27|\n",
      "|        Amazonas|  9|             12|                1.01|\n",
      "|        Amazonas| 10|             13|                1.05|\n",
      "|        Amazonas| 11|             14|                1.09|\n",
      "|           Bahia|  9|             17|                1.07|\n",
      "|           Bahia| 10|             16|                0.89|\n",
      "|           Bahia| 11|             16|                0.79|\n",
      "|           Ceará|  9|             17|                1.04|\n",
      "|           Ceará| 10|             17|                0.94|\n",
      "|           Ceará| 11|             17|                 0.9|\n",
      "|Distrito Federal|  9|             22|                 1.6|\n",
      "|Distrito Federal| 10|             20|                1.31|\n",
      "+----------------+---+---------------+--------------------+\n",
      "only showing top 20 rows\n",
      "\n"
     ]
    }
   ],
   "source": [
    "# new temporary view\n",
    "testagem_uf.createOrReplaceTempView('positivos_uf')\n",
    "\n",
    "# get only positivos for uf and month, calculate the percent\n",
    "positivos_uf = spark.sql('''\n",
    "    SELECT uf, mes, sum(positivos) as total_positivos,\n",
    "        ROUND((sum(positivos) / SUM(total_respostas)) * 100, 2) as percentual_positivos\n",
    "    FROM positivos_uf\n",
    "    GROUP BY uf, mes\n",
    "    ORDER BY uf, mes\n",
    "''')\n",
    "\n",
    "positivos_uf.show()"
   ]
  },
  {
   "cell_type": "code",
   "execution_count": 26,
   "metadata": {},
   "outputs": [
    {
     "name": "stdout",
     "output_type": "stream",
     "text": [
      "+--------+---+---------------+--------------------+\n",
      "|      uf|mes|total_positivos|percentual_positivos|\n",
      "+--------+---+---------------+--------------------+\n",
      "|Rondônia|  9|             17|                3.61|\n",
      "|Rondônia| 10|             20|                3.26|\n",
      "|   Amapá| 10|             10|                2.65|\n",
      "|    Acre|  9|             13|                2.63|\n",
      "|Rondônia| 11|             20|                2.58|\n",
      "+--------+---+---------------+--------------------+\n",
      "\n"
     ]
    }
   ],
   "source": [
    "# select 5 worst results for percent\n",
    "positivos_uf.createOrReplaceTempView('piores_positivos_uf')\n",
    "\n",
    "positivos_uf_percent = spark.sql('''\n",
    "    SELECT uf, mes, total_positivos, percentual_positivos\n",
    "    FROM piores_positivos_uf\n",
    "    ORDER BY percentual_positivos DESC\n",
    "    LIMIT 5\n",
    "''')\n",
    "\n",
    "positivos_uf_percent.show()"
   ]
  },
  {
   "cell_type": "code",
   "execution_count": 27,
   "metadata": {},
   "outputs": [],
   "source": [
    "# organizar ordem do notebook - região antes de estado\n",
    "# escolher o quê manter\n",
    "# criar queries dentro de queries para automatizar\n",
    "# o que são subqueries?\n",
    "# função para automatizar queries - no fim"
   ]
  },
  {
   "cell_type": "code",
   "execution_count": 28,
   "metadata": {},
   "outputs": [
    {
     "name": "stdout",
     "output_type": "stream",
     "text": [
      "root\n",
      " |-- uf: string (nullable = true)\n",
      " |-- regiao: string (nullable = false)\n",
      " |-- semana: integer (nullable = true)\n",
      " |-- mes: integer (nullable = true)\n",
      " |-- no_entrevista: integer (nullable = true)\n",
      " |-- estrato: integer (nullable = true)\n",
      " |-- upa: integer (nullable = true)\n",
      " |-- respondente: string (nullable = true)\n",
      " |-- status_domicilio: string (nullable = true)\n",
      " |-- proj_populacao: integer (nullable = true)\n",
      " |-- condicao_no_domicilio: string (nullable = true)\n",
      " |-- idade_morador: integer (nullable = true)\n",
      " |-- sexo: string (nullable = true)\n",
      " |-- cor_raca: string (nullable = true)\n",
      " |-- escolaridade: string (nullable = true)\n",
      " |-- frequenta_escola: string (nullable = true)\n",
      " |-- atividades_escolares_realizar_em_casa: string (nullable = true)\n",
      " |-- dias_dedicados_atividades_escolares: string (nullable = true)\n",
      " |-- tempo_diario_atividades_escolares: string (nullable = true)\n",
      " |-- ensino_publico_ou_privado: string (nullable = true)\n",
      " |-- tendo_aulas_presenciais: string (nullable = true)\n",
      " |-- domicilio_tem_sabao_detergente: string (nullable = true)\n",
      " |-- domicilio_tem_alcool_70mais: string (nullable = true)\n",
      " |-- domicilio_tem_mascaras: string (nullable = true)\n",
      " |-- domicilio_tem_luvas_descartaveis: string (nullable = true)\n",
      " |-- domicilio_tem_agua_sanitaria_desinfetante: string (nullable = true)\n",
      " |-- febre: string (nullable = true)\n",
      " |-- tosse: string (nullable = true)\n",
      " |-- dor_garganta: string (nullable = true)\n",
      " |-- dificuldade_respirar: string (nullable = true)\n",
      " |-- dor_cabeca: string (nullable = true)\n",
      " |-- dor_peito: string (nullable = true)\n",
      " |-- nausea: string (nullable = true)\n",
      " |-- nariz_entupido_coriza: string (nullable = true)\n",
      " |-- fadiga: string (nullable = true)\n",
      " |-- dor_olhos: string (nullable = true)\n",
      " |-- perda_olfato_paladar: string (nullable = true)\n",
      " |-- dor_muscular: string (nullable = true)\n",
      " |-- diarreia: string (nullable = true)\n",
      " |-- como_restringiu_contato_fisico: string (nullable = true)\n",
      " |-- compareceu_estabelecimento_de_saude: string (nullable = true)\n",
      " |-- ficou_em_casa: string (nullable = true)\n",
      " |-- ligou_profissional_saude: string (nullable = true)\n",
      " |-- automedicou: string (nullable = true)\n",
      " |-- prescricao_medica: string (nullable = true)\n",
      " |-- visita_profissional_saude_sus: string (nullable = true)\n",
      " |-- visita_de_profissional_saude_particular: string (nullable = true)\n",
      " |-- outra_providencia: string (nullable = true)\n",
      " |-- unidade_basica_saude_sus: string (nullable = true)\n",
      " |-- pronto_socorro_sus: string (nullable = true)\n",
      " |-- hospital_sus: string (nullable = true)\n",
      " |-- ambulatorio_consultorio_privado_ou_forcas_armadas: string (nullable = true)\n",
      " |-- pronto_socorro_privado_ou_forcas_armadas: string (nullable = true)\n",
      " |-- hospital_privado_ou_forcas_armadas: string (nullable = true)\n",
      " |-- internado_um_dia_mais: string (nullable = true)\n",
      " |-- sedado_entubado_ventilado: string (nullable = true)\n",
      " |-- tem_plano_saude: string (nullable = true)\n",
      " |-- realizou_teste_coronavirus: string (nullable = true)\n",
      " |-- cotonete: string (nullable = true)\n",
      " |-- resultado_cotonete: string (nullable = true)\n",
      " |-- coleta_sangue_dedo: string (nullable = true)\n",
      " |-- resultado_sangue_dedo: string (nullable = true)\n",
      " |-- coleta_sanque_braco: string (nullable = true)\n",
      " |-- resultado_sangue_braco: string (nullable = true)\n",
      " |-- diabetes: string (nullable = true)\n",
      " |-- hipertensao: string (nullable = true)\n",
      " |-- doenca_respiratoria_cronica_ou_pulmao: string (nullable = true)\n",
      " |-- doenca_cardiaca: string (nullable = true)\n",
      " |-- depressao: string (nullable = true)\n",
      " |-- cancer: string (nullable = true)\n",
      " |-- trabalhou_uma_hora_mais: string (nullable = true)\n",
      " |-- afastamento_trabalho: string (nullable = true)\n",
      " |-- motivo_afastamento: string (nullable = true)\n",
      " |-- horas_semana_trabalho_normal: integer (nullable = true)\n",
      " |-- horas_semana_trabalho_realizadas: integer (nullable = true)\n",
      " |-- valor_dinheiro: integer (nullable = true)\n",
      " |-- contrato_trabalho_estava_suspenso: string (nullable = true)\n",
      " |-- trabalho_no_mesmo_local: string (nullable = true)\n",
      " |-- trabalho_remoto: string (nullable = true)\n",
      " |-- auxilios_emergenciais_coronavirus: string (nullable = true)\n",
      " |-- valor_recebido_auxilios_emergenciais: double (nullable = true)\n",
      " |-- seguro_desemprego: string (nullable = true)\n",
      " |-- valor_recebido_seguro_desemprego: double (nullable = true)\n",
      " |-- solicitou_emprestimo: string (nullable = true)\n",
      "\n"
     ]
    }
   ],
   "source": [
    "# print schema\n",
    "df.printSchema()"
   ]
  },
  {
   "cell_type": "code",
   "execution_count": 29,
   "metadata": {},
   "outputs": [
    {
     "name": "stdout",
     "output_type": "stream",
     "text": [
      "+------------+---+--------------------+--------------------+-------------------------------------+--------------------+--------------------+--------------------+-----+------------------+---------------+\n",
      "|      regiao|mes|            diabetes|         hipertensao|doenca_respiratoria_cronica_ou_pulmao|     doenca_cardiaca|           depressao|              cancer|idoso|possui_comorbidade|total_respostas|\n",
      "+------------+---+--------------------+--------------------+-------------------------------------+--------------------+--------------------+--------------------+-----+------------------+---------------+\n",
      "|Centro-Oeste|  9|Ignorado / Não ap...|Ignorado / Não ap...|                 Ignorado / Não ap...|Ignorado / Não ap...|Ignorado / Não ap...|Ignorado / Não ap...|    0|                 0|            134|\n",
      "|Centro-Oeste|  9|Ignorado / Não ap...|Ignorado / Não ap...|                 Ignorado / Não ap...|Ignorado / Não ap...|Ignorado / Não ap...|Ignorado / Não ap...|    1|                 0|             35|\n",
      "|Centro-Oeste|  9|Ignorado / Não ap...|Ignorado / Não ap...|                                  Sim|Ignorado / Não ap...|Ignorado / Não ap...|Ignorado / Não ap...|    1|                 1|              1|\n",
      "|Centro-Oeste|  9|Ignorado / Não ap...|Ignorado / Não ap...|                                  Sim|                 Não|                 Não|                 Não|    0|                 1|              1|\n",
      "|Centro-Oeste|  9|Ignorado / Não ap...|                 Sim|                 Ignorado / Não ap...|Ignorado / Não ap...|Ignorado / Não ap...|Ignorado / Não ap...|    1|                 1|              1|\n",
      "|Centro-Oeste|  9|Ignorado / Não ap...|                 Sim|                                  Não|                 Não|                 Não|                 Não|    1|                 1|              1|\n",
      "|Centro-Oeste|  9|Ignorado / Não ap...|                 Sim|                                  Não|                 Sim|                 Não|                 Não|    1|                 1|              1|\n",
      "|Centro-Oeste|  9|                 Não|Ignorado / Não ap...|                 Ignorado / Não ap...|Ignorado / Não ap...|Ignorado / Não ap...|Ignorado / Não ap...|    0|                 0|              1|\n",
      "|Centro-Oeste|  9|                 Não|Ignorado / Não ap...|                                  Não|                 Não|                 Não|                 Não|    0|                 0|              1|\n",
      "|Centro-Oeste|  9|                 Não|Ignorado / Não ap...|                                  Sim|                 Não|                 Não|                 Não|    0|                 1|              1|\n",
      "|Centro-Oeste|  9|                 Não|                 Não|                 Ignorado / Não ap...|                 Não|Ignorado / Não ap...|                 Não|    0|                 0|              1|\n",
      "|Centro-Oeste|  9|                 Não|                 Não|                 Ignorado / Não ap...|                 Sim|                 Não|                 Não|    0|                 1|              1|\n",
      "|Centro-Oeste|  9|                 Não|                 Não|                                  Não|                 Não|Ignorado / Não ap...|Ignorado / Não ap...|    0|                 0|              1|\n",
      "|Centro-Oeste|  9|                 Não|                 Não|                                  Não|                 Não|Ignorado / Não ap...|                 Não|    0|                 0|              3|\n",
      "|Centro-Oeste|  9|                 Não|                 Não|                                  Não|                 Não|                 Não|Ignorado / Não ap...|    0|                 0|              2|\n",
      "|Centro-Oeste|  9|                 Não|                 Não|                                  Não|                 Não|                 Não|Ignorado / Não ap...|    1|                 0|              1|\n",
      "|Centro-Oeste|  9|                 Não|                 Não|                                  Não|                 Não|                 Não|                 Não|    0|                 0|          28359|\n",
      "|Centro-Oeste|  9|                 Não|                 Não|                                  Não|                 Não|                 Não|                 Não|    1|                 0|           2707|\n",
      "|Centro-Oeste|  9|                 Não|                 Não|                                  Não|                 Não|                 Não|                 Sim|    0|                 1|            120|\n",
      "|Centro-Oeste|  9|                 Não|                 Não|                                  Não|                 Não|                 Não|                 Sim|    1|                 1|             76|\n",
      "+------------+---+--------------------+--------------------+-------------------------------------+--------------------+--------------------+--------------------+-----+------------------+---------------+\n",
      "only showing top 20 rows\n",
      "\n"
     ]
    }
   ],
   "source": [
    "# comorbidades - criar coluna com o total de comorbidades\n",
    "# create a temporary view\n",
    "df.createOrReplaceTempView('comorbidades_regiao_mes')\n",
    "\n",
    "# group by regiao, mes => count each differente value in comorbidades\n",
    "comorbidades_regiao_mes = spark.sql('''\n",
    "    SELECT regiao, mes, \n",
    "        diabetes, hipertensao, doenca_respiratoria_cronica_ou_pulmao, doenca_cardiaca, depressao, cancer,\n",
    "        (CASE WHEN idade_morador < 60 THEN 0 ELSE 1 END) as idoso,\n",
    "        (CASE WHEN idoso = 'Sim' OR\n",
    "            diabetes = 'Sim' OR \n",
    "            hipertensao = 'Sim' OR \n",
    "            doenca_respiratoria_cronica_ou_pulmao = 'Sim' OR \n",
    "            doenca_cardiaca = 'Sim' OR \n",
    "            depressao = 'Sim' OR \n",
    "            cancer = 'Sim' THEN 1 ELSE 0 END) as possui_comorbidade,\n",
    "        count(*) as total_respostas\n",
    "    FROM comorbidades_regiao_mes\n",
    "    GROUP BY regiao, mes, diabetes, hipertensao, doenca_respiratoria_cronica_ou_pulmao, doenca_cardiaca, depressao, cancer, idoso\n",
    "    ORDER BY regiao, mes, diabetes, hipertensao, doenca_respiratoria_cronica_ou_pulmao, doenca_cardiaca, depressao, cancer, idoso\n",
    "''')\n",
    "\n",
    "comorbidades_regiao_mes.show()"
   ]
  },
  {
   "cell_type": "code",
   "execution_count": 30,
   "metadata": {},
   "outputs": [
    {
     "name": "stdout",
     "output_type": "stream",
     "text": [
      "+---+------------+------------------+----------------------+\n",
      "|mes|      regiao|total_comorbidades|percentual_comorbidade|\n",
      "+---+------------+------------------+----------------------+\n",
      "|  9|Centro-Oeste|               115|                  0.28|\n",
      "| 10|Centro-Oeste|               112|                  0.28|\n",
      "| 11|Centro-Oeste|               112|                  0.27|\n",
      "|  9|    Nordeste|               123|                   0.1|\n",
      "| 10|    Nordeste|               116|                   0.1|\n",
      "| 11|    Nordeste|               120|                   0.1|\n",
      "|  9|       Norte|               101|                  0.21|\n",
      "| 10|       Norte|               102|                  0.22|\n",
      "| 11|       Norte|               100|                  0.21|\n",
      "|  9|     Sudeste|               136|                  0.12|\n",
      "| 10|     Sudeste|               131|                  0.12|\n",
      "| 11|     Sudeste|               127|                  0.11|\n",
      "|  9|         Sul|               130|                   0.2|\n",
      "| 10|         Sul|               122|                  0.19|\n",
      "| 11|         Sul|               121|                  0.19|\n",
      "+---+------------+------------------+----------------------+\n",
      "\n"
     ]
    }
   ],
   "source": [
    "# calculate the percent of people with comorbidades\n",
    "comorbidades_regiao_mes.createOrReplaceTempView('regiao_comorbidades_percent')\n",
    "\n",
    "comorbidades_percent = spark.sql('''\n",
    "    SELECT mes, regiao, \n",
    "        sum(possui_comorbidade) as total_comorbidades,\n",
    "        ROUND((sum(possui_comorbidade) / SUM(total_respostas)) * 100, 2) as percentual_comorbidade\n",
    "    FROM regiao_comorbidades_percent\n",
    "    GROUP BY regiao, mes\n",
    "    ORDER BY regiao, mes\n",
    "''')\n",
    "\n",
    "comorbidades_percent.show()"
   ]
  },
  {
   "cell_type": "code",
   "execution_count": 31,
   "metadata": {},
   "outputs": [
    {
     "name": "stdout",
     "output_type": "stream",
     "text": [
      "+------------+-----------------------+\n",
      "|      regiao|percentual_comorbidades|\n",
      "+------------+-----------------------+\n",
      "|    Nordeste|                    0.0|\n",
      "|         Sul|                    0.0|\n",
      "|     Sudeste|                    0.0|\n",
      "|Centro-Oeste|                    0.0|\n",
      "|       Norte|                    0.0|\n",
      "+------------+-----------------------+\n",
      "\n"
     ]
    }
   ],
   "source": [
    "# calculate the percent of people with comorbidades\n",
    "comorbidades_regiao_mes.createOrReplaceTempView('comorbidade_regiao')\n",
    "\n",
    "comorbidade_regiao = spark.sql('''\n",
    "    SELECT regiao, \n",
    "        ROUND((SUM(CASE WHEN possui_comorbidade = 'Sim' THEN total_respostas ELSE 0 END) / SUM(total_respostas)) * 100, 2) as percentual_comorbidades\n",
    "    FROM comorbidade_regiao\n",
    "    GROUP BY regiao\n",
    "    ORDER BY percentual_comorbidades DESC\n",
    "''')\n",
    "\n",
    "comorbidade_regiao.show()"
   ]
  },
  {
   "cell_type": "code",
   "execution_count": 32,
   "metadata": {},
   "outputs": [
    {
     "name": "stdout",
     "output_type": "stream",
     "text": [
      "+------------+---+--------------------+--------------------+-------------------------------------+--------------------+--------------------+--------------------+-----+------------------+---------------+------------------+\n",
      "|      regiao|mes|            diabetes|         hipertensao|doenca_respiratoria_cronica_ou_pulmao|     doenca_cardiaca|           depressao|              cancer|idoso|possui_comorbidade|total_respostas|total_comorbidades|\n",
      "+------------+---+--------------------+--------------------+-------------------------------------+--------------------+--------------------+--------------------+-----+------------------+---------------+------------------+\n",
      "|Centro-Oeste|  9|Ignorado / Não ap...|Ignorado / Não ap...|                 Ignorado / Não ap...|Ignorado / Não ap...|Ignorado / Não ap...|Ignorado / Não ap...|    0|                 0|            134|                 0|\n",
      "|Centro-Oeste|  9|Ignorado / Não ap...|Ignorado / Não ap...|                 Ignorado / Não ap...|Ignorado / Não ap...|Ignorado / Não ap...|Ignorado / Não ap...|    1|                 0|             35|                 1|\n",
      "|Centro-Oeste|  9|Ignorado / Não ap...|Ignorado / Não ap...|                                  Sim|Ignorado / Não ap...|Ignorado / Não ap...|Ignorado / Não ap...|    1|                 1|              1|                 2|\n",
      "|Centro-Oeste|  9|Ignorado / Não ap...|Ignorado / Não ap...|                                  Sim|                 Não|                 Não|                 Não|    0|                 1|              1|                 1|\n",
      "|Centro-Oeste|  9|Ignorado / Não ap...|                 Sim|                 Ignorado / Não ap...|Ignorado / Não ap...|Ignorado / Não ap...|Ignorado / Não ap...|    1|                 1|              1|                 2|\n",
      "|Centro-Oeste|  9|Ignorado / Não ap...|                 Sim|                                  Não|                 Não|                 Não|                 Não|    1|                 1|              1|                 2|\n",
      "|Centro-Oeste|  9|Ignorado / Não ap...|                 Sim|                                  Não|                 Sim|                 Não|                 Não|    1|                 1|              1|                 3|\n",
      "|Centro-Oeste|  9|                 Não|Ignorado / Não ap...|                 Ignorado / Não ap...|Ignorado / Não ap...|Ignorado / Não ap...|Ignorado / Não ap...|    0|                 0|              1|                 0|\n",
      "|Centro-Oeste|  9|                 Não|Ignorado / Não ap...|                                  Não|                 Não|                 Não|                 Não|    0|                 0|              1|                 0|\n",
      "|Centro-Oeste|  9|                 Não|Ignorado / Não ap...|                                  Sim|                 Não|                 Não|                 Não|    0|                 1|              1|                 1|\n",
      "|Centro-Oeste|  9|                 Não|                 Não|                 Ignorado / Não ap...|                 Não|Ignorado / Não ap...|                 Não|    0|                 0|              1|                 0|\n",
      "|Centro-Oeste|  9|                 Não|                 Não|                 Ignorado / Não ap...|                 Sim|                 Não|                 Não|    0|                 1|              1|                 1|\n",
      "|Centro-Oeste|  9|                 Não|                 Não|                                  Não|                 Não|Ignorado / Não ap...|Ignorado / Não ap...|    0|                 0|              1|                 0|\n",
      "|Centro-Oeste|  9|                 Não|                 Não|                                  Não|                 Não|Ignorado / Não ap...|                 Não|    0|                 0|              3|                 0|\n",
      "|Centro-Oeste|  9|                 Não|                 Não|                                  Não|                 Não|                 Não|Ignorado / Não ap...|    0|                 0|              2|                 0|\n",
      "|Centro-Oeste|  9|                 Não|                 Não|                                  Não|                 Não|                 Não|Ignorado / Não ap...|    1|                 0|              1|                 1|\n",
      "|Centro-Oeste|  9|                 Não|                 Não|                                  Não|                 Não|                 Não|                 Não|    0|                 0|          28359|                 0|\n",
      "|Centro-Oeste|  9|                 Não|                 Não|                                  Não|                 Não|                 Não|                 Não|    1|                 0|           2707|                 1|\n",
      "|Centro-Oeste|  9|                 Não|                 Não|                                  Não|                 Não|                 Não|                 Sim|    0|                 1|            120|                 1|\n",
      "|Centro-Oeste|  9|                 Não|                 Não|                                  Não|                 Não|                 Não|                 Sim|    1|                 1|             76|                 2|\n",
      "+------------+---+--------------------+--------------------+-------------------------------------+--------------------+--------------------+--------------------+-----+------------------+---------------+------------------+\n",
      "only showing top 20 rows\n",
      "\n"
     ]
    }
   ],
   "source": [
    "# add column in comorbidade_regiao_mes with sum of number of comorbidades\n",
    "comorbidades_regiao_mes = comorbidades_regiao_mes.withColumn('total_comorbidades', \n",
    "                                                                F.when(col('diabetes') == 'Sim', 1).otherwise(0) +\n",
    "                                                                F.when(col('hipertensao') == 'Sim', 1).otherwise(0) +\n",
    "                                                                F.when(col('doenca_respiratoria_cronica_ou_pulmao') == 'Sim', 1).otherwise(0) +\n",
    "                                                                F.when(col('doenca_cardiaca') == 'Sim', 1).otherwise(0) +\n",
    "                                                                F.when(col('depressao') == 'Sim', 1).otherwise(0) +\\\n",
    "                                                                F.when(col('cancer') == 'Sim', 1).otherwise(0) +\\\n",
    "                                                                F.when(col('idoso') == 1, 1).otherwise(0))\n",
    "\n",
    "comorbidades_regiao_mes.show()"
   ]
  },
  {
   "cell_type": "code",
   "execution_count": 33,
   "metadata": {},
   "outputs": [
    {
     "name": "stdout",
     "output_type": "stream",
     "text": [
      "root\n",
      " |-- uf: string (nullable = true)\n",
      " |-- regiao: string (nullable = false)\n",
      " |-- semana: integer (nullable = true)\n",
      " |-- mes: integer (nullable = true)\n",
      " |-- no_entrevista: integer (nullable = true)\n",
      " |-- estrato: integer (nullable = true)\n",
      " |-- upa: integer (nullable = true)\n",
      " |-- respondente: string (nullable = true)\n",
      " |-- status_domicilio: string (nullable = true)\n",
      " |-- proj_populacao: integer (nullable = true)\n",
      " |-- condicao_no_domicilio: string (nullable = true)\n",
      " |-- idade_morador: integer (nullable = true)\n",
      " |-- sexo: string (nullable = true)\n",
      " |-- cor_raca: string (nullable = true)\n",
      " |-- escolaridade: string (nullable = true)\n",
      " |-- frequenta_escola: string (nullable = true)\n",
      " |-- atividades_escolares_realizar_em_casa: string (nullable = true)\n",
      " |-- dias_dedicados_atividades_escolares: string (nullable = true)\n",
      " |-- tempo_diario_atividades_escolares: string (nullable = true)\n",
      " |-- ensino_publico_ou_privado: string (nullable = true)\n",
      " |-- tendo_aulas_presenciais: string (nullable = true)\n",
      " |-- domicilio_tem_sabao_detergente: string (nullable = true)\n",
      " |-- domicilio_tem_alcool_70mais: string (nullable = true)\n",
      " |-- domicilio_tem_mascaras: string (nullable = true)\n",
      " |-- domicilio_tem_luvas_descartaveis: string (nullable = true)\n",
      " |-- domicilio_tem_agua_sanitaria_desinfetante: string (nullable = true)\n",
      " |-- febre: string (nullable = true)\n",
      " |-- tosse: string (nullable = true)\n",
      " |-- dor_garganta: string (nullable = true)\n",
      " |-- dificuldade_respirar: string (nullable = true)\n",
      " |-- dor_cabeca: string (nullable = true)\n",
      " |-- dor_peito: string (nullable = true)\n",
      " |-- nausea: string (nullable = true)\n",
      " |-- nariz_entupido_coriza: string (nullable = true)\n",
      " |-- fadiga: string (nullable = true)\n",
      " |-- dor_olhos: string (nullable = true)\n",
      " |-- perda_olfato_paladar: string (nullable = true)\n",
      " |-- dor_muscular: string (nullable = true)\n",
      " |-- diarreia: string (nullable = true)\n",
      " |-- como_restringiu_contato_fisico: string (nullable = true)\n",
      " |-- compareceu_estabelecimento_de_saude: string (nullable = true)\n",
      " |-- ficou_em_casa: string (nullable = true)\n",
      " |-- ligou_profissional_saude: string (nullable = true)\n",
      " |-- automedicou: string (nullable = true)\n",
      " |-- prescricao_medica: string (nullable = true)\n",
      " |-- visita_profissional_saude_sus: string (nullable = true)\n",
      " |-- visita_de_profissional_saude_particular: string (nullable = true)\n",
      " |-- outra_providencia: string (nullable = true)\n",
      " |-- unidade_basica_saude_sus: string (nullable = true)\n",
      " |-- pronto_socorro_sus: string (nullable = true)\n",
      " |-- hospital_sus: string (nullable = true)\n",
      " |-- ambulatorio_consultorio_privado_ou_forcas_armadas: string (nullable = true)\n",
      " |-- pronto_socorro_privado_ou_forcas_armadas: string (nullable = true)\n",
      " |-- hospital_privado_ou_forcas_armadas: string (nullable = true)\n",
      " |-- internado_um_dia_mais: string (nullable = true)\n",
      " |-- sedado_entubado_ventilado: string (nullable = true)\n",
      " |-- tem_plano_saude: string (nullable = true)\n",
      " |-- realizou_teste_coronavirus: string (nullable = true)\n",
      " |-- cotonete: string (nullable = true)\n",
      " |-- resultado_cotonete: string (nullable = true)\n",
      " |-- coleta_sangue_dedo: string (nullable = true)\n",
      " |-- resultado_sangue_dedo: string (nullable = true)\n",
      " |-- coleta_sanque_braco: string (nullable = true)\n",
      " |-- resultado_sangue_braco: string (nullable = true)\n",
      " |-- diabetes: string (nullable = true)\n",
      " |-- hipertensao: string (nullable = true)\n",
      " |-- doenca_respiratoria_cronica_ou_pulmao: string (nullable = true)\n",
      " |-- doenca_cardiaca: string (nullable = true)\n",
      " |-- depressao: string (nullable = true)\n",
      " |-- cancer: string (nullable = true)\n",
      " |-- trabalhou_uma_hora_mais: string (nullable = true)\n",
      " |-- afastamento_trabalho: string (nullable = true)\n",
      " |-- motivo_afastamento: string (nullable = true)\n",
      " |-- horas_semana_trabalho_normal: integer (nullable = true)\n",
      " |-- horas_semana_trabalho_realizadas: integer (nullable = true)\n",
      " |-- valor_dinheiro: integer (nullable = true)\n",
      " |-- contrato_trabalho_estava_suspenso: string (nullable = true)\n",
      " |-- trabalho_no_mesmo_local: string (nullable = true)\n",
      " |-- trabalho_remoto: string (nullable = true)\n",
      " |-- auxilios_emergenciais_coronavirus: string (nullable = true)\n",
      " |-- valor_recebido_auxilios_emergenciais: double (nullable = true)\n",
      " |-- seguro_desemprego: string (nullable = true)\n",
      " |-- valor_recebido_seguro_desemprego: double (nullable = true)\n",
      " |-- solicitou_emprestimo: string (nullable = true)\n",
      "\n"
     ]
    }
   ],
   "source": [
    "df.printSchema()"
   ]
  },
  {
   "cell_type": "code",
   "execution_count": 35,
   "metadata": {},
   "outputs": [
    {
     "name": "stdout",
     "output_type": "stream",
     "text": [
      "+---+-------------------+-------------------------+-----------------------------+\n",
      "|mes|                 uf|percentual_valor_dinheiro|percentual_sem_valor_dinheiro|\n",
      "+---+-------------------+-------------------------+-----------------------------+\n",
      "|  9|               Acre|                    31.31|                        68.69|\n",
      "|  9|            Alagoas|                    24.76|                        75.24|\n",
      "|  9|              Amapá|                    33.33|                        66.67|\n",
      "|  9|           Amazonas|                    30.97|                        69.03|\n",
      "|  9|              Bahia|                    30.38|                        69.62|\n",
      "|  9|              Ceará|                     28.1|                         71.9|\n",
      "|  9|   Distrito Federal|                    40.76|                        59.24|\n",
      "|  9|     Espírito Santo|                    40.78|                        59.22|\n",
      "|  9|              Goiás|                    42.32|                        57.68|\n",
      "|  9|           Maranhão|                    25.44|                        74.56|\n",
      "|  9|        Mato Grosso|                    42.11|                        57.89|\n",
      "|  9| Mato Grosso do Sul|                    43.77|                        56.23|\n",
      "|  9|       Minas Gerais|                     39.5|                         60.5|\n",
      "|  9|             Paraná|                    43.89|                        56.11|\n",
      "|  9|            Paraíba|                     30.0|                         70.0|\n",
      "|  9|               Pará|                    33.63|                        66.37|\n",
      "|  9|         Pernambuco|                    31.16|                        68.84|\n",
      "|  9|              Piauí|                    28.61|                        71.39|\n",
      "|  9|Rio Grande do Norte|                    30.69|                        69.31|\n",
      "|  9|  Rio Grande do Sul|                    42.41|                        57.59|\n",
      "+---+-------------------+-------------------------+-----------------------------+\n",
      "only showing top 20 rows\n",
      "\n"
     ]
    }
   ],
   "source": [
    "# contar % valor_dinheiro > 0 e % valor_dinheiro > 0\n",
    "# create a temporary view\n",
    "df.createOrReplaceTempView('recebeu_ou_nao_dinheiro_mes')\n",
    "\n",
    "recebeu_ou_nao_dinheiro_mes = spark.sql('''\n",
    "    SELECT mes, uf, \n",
    "        ROUND((SUM(CASE WHEN valor_dinheiro > 0 THEN 1 ELSE 0 END) / COUNT(*)) * 100, 2) as percentual_valor_dinheiro,\n",
    "        ROUND((SUM(CASE WHEN valor_dinheiro = 0 THEN 1 ELSE 0 END) / COUNT(*)) * 100, 2) as percentual_sem_valor_dinheiro\n",
    "    FROM recebeu_ou_nao_dinheiro_mes\n",
    "    GROUP BY mes, uf\n",
    "    ORDER BY mes, uf\n",
    "''')\n",
    "\n",
    "recebeu_ou_nao_dinheiro_mes.show()"
   ]
  },
  {
   "cell_type": "code",
   "execution_count": 38,
   "metadata": {},
   "outputs": [
    {
     "name": "stdout",
     "output_type": "stream",
     "text": [
      "+------------+---+--------------------+---------------+\n",
      "|      regiao|mes|        escolaridade|total_respostas|\n",
      "+------------+---+--------------------+---------------+\n",
      "|Centro-Oeste|  9|Fundamental completa|           2520|\n",
      "|Centro-Oeste|  9|Fundamental incom...|          13135|\n",
      "|Centro-Oeste|  9|      Médio completo|           8600|\n",
      "|Centro-Oeste|  9|    Médio incompleto|           4070|\n",
      "|Centro-Oeste|  9|Pós-graduação, me...|           1325|\n",
      "|Centro-Oeste|  9|       Sem instrução|           4157|\n",
      "|Centro-Oeste|  9|   Superior completo|           4644|\n",
      "|Centro-Oeste|  9| Superior incompleto|           2562|\n",
      "|Centro-Oeste| 10|Fundamental completa|           2491|\n",
      "|Centro-Oeste| 10|Fundamental incom...|          12947|\n",
      "|Centro-Oeste| 10|      Médio completo|           8437|\n",
      "|Centro-Oeste| 10|    Médio incompleto|           4006|\n",
      "|Centro-Oeste| 10|Pós-graduação, me...|           1325|\n",
      "|Centro-Oeste| 10|       Sem instrução|           4105|\n",
      "|Centro-Oeste| 10|   Superior completo|           4636|\n",
      "|Centro-Oeste| 10| Superior incompleto|           2507|\n",
      "|Centro-Oeste| 11|Fundamental completa|           2529|\n",
      "|Centro-Oeste| 11|Fundamental incom...|          13090|\n",
      "|Centro-Oeste| 11|      Médio completo|           8631|\n",
      "|Centro-Oeste| 11|    Médio incompleto|           4018|\n",
      "+------------+---+--------------------+---------------+\n",
      "only showing top 20 rows\n",
      "\n"
     ]
    }
   ],
   "source": [
    "# escolaridade por região\n",
    "# create a temporary view\n",
    "df.createOrReplaceTempView('escolaridade_regiao')\n",
    "\n",
    "# group by regiao, mes => count each differente value in escolaridade\n",
    "escolaridade_regiao = spark.sql('''\n",
    "    SELECT regiao, mes, escolaridade, count(*) as total_respostas\n",
    "    FROM escolaridade_regiao\n",
    "    GROUP BY regiao, mes, escolaridade\n",
    "    ORDER BY regiao, mes, escolaridade\n",
    "''')\n",
    "\n",
    "escolaridade_regiao.show()"
   ]
  }
 ],
 "metadata": {
  "kernelspec": {
   "display_name": ".venv",
   "language": "python",
   "name": "python3"
  },
  "language_info": {
   "codemirror_mode": {
    "name": "ipython",
    "version": 3
   },
   "file_extension": ".py",
   "mimetype": "text/x-python",
   "name": "python",
   "nbconvert_exporter": "python",
   "pygments_lexer": "ipython3",
   "version": "3.11.8"
  }
 },
 "nbformat": 4,
 "nbformat_minor": 2
}
